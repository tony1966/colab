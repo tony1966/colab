{
  "nbformat": 4,
  "nbformat_minor": 0,
  "metadata": {
    "colab": {
      "name": "deep_learning_illustrated_ch9_deep_boston.ipynb",
      "provenance": [],
      "collapsed_sections": [],
      "authorship_tag": "ABX9TyP3kM+AEQATQMV1P68iZu/p",
      "include_colab_link": true
    },
    "kernelspec": {
      "name": "python3",
      "display_name": "Python 3"
    },
    "language_info": {
      "name": "python"
    }
  },
  "cells": [
    {
      "cell_type": "markdown",
      "metadata": {
        "id": "view-in-github",
        "colab_type": "text"
      },
      "source": [
        "<a href=\"https://colab.research.google.com/github/tony1966/colab/blob/main/deep_learning_illustrated_ch9_deep_boston.ipynb\" target=\"_parent\"><img src=\"https://colab.research.google.com/assets/colab-badge.svg\" alt=\"Open In Colab\"/></a>"
      ]
    },
    {
      "cell_type": "code",
      "execution_count": 1,
      "metadata": {
        "id": "hQaQa3fouB-z"
      },
      "outputs": [],
      "source": [
        "from tensorflow.keras.datasets import boston_housing\n",
        "from tensorflow.keras.models import Sequential   \n",
        "from tensorflow.keras.layers import Dense  \n",
        "from tensorflow.keras.layers import Dropout \n",
        "from tensorflow.keras.layers import BatchNormalization \n",
        "import numpy as np"
      ]
    },
    {
      "cell_type": "code",
      "source": [
        "(X_train, y_train), (X_test, y_test)=boston_housing.load_data()"
      ],
      "metadata": {
        "colab": {
          "base_uri": "https://localhost:8080/"
        },
        "id": "DCuAn3p5u3xz",
        "outputId": "f2583226-f7e4-4c31-cc39-2212146c5434"
      },
      "execution_count": 2,
      "outputs": [
        {
          "output_type": "stream",
          "name": "stdout",
          "text": [
            "Downloading data from https://storage.googleapis.com/tensorflow/tf-keras-datasets/boston_housing.npz\n",
            "57344/57026 [==============================] - 0s 0us/step\n",
            "65536/57026 [==================================] - 0s 0us/step\n"
          ]
        }
      ]
    },
    {
      "cell_type": "code",
      "source": [
        "X_train.shape"
      ],
      "metadata": {
        "colab": {
          "base_uri": "https://localhost:8080/"
        },
        "id": "uvkbrvtfu96J",
        "outputId": "9305882f-c5b8-42be-a7c1-913b3aec8c96"
      },
      "execution_count": 5,
      "outputs": [
        {
          "output_type": "execute_result",
          "data": {
            "text/plain": [
              "(404, 13)"
            ]
          },
          "metadata": {},
          "execution_count": 5
        }
      ]
    },
    {
      "cell_type": "code",
      "source": [
        "X_test.shape"
      ],
      "metadata": {
        "colab": {
          "base_uri": "https://localhost:8080/"
        },
        "id": "lzGY1yOdv7Hv",
        "outputId": "7f7ac5a4-2556-444f-ec89-84130bd828bd"
      },
      "execution_count": 6,
      "outputs": [
        {
          "output_type": "execute_result",
          "data": {
            "text/plain": [
              "(102, 13)"
            ]
          },
          "metadata": {},
          "execution_count": 6
        }
      ]
    },
    {
      "cell_type": "code",
      "source": [
        "y_train.shape"
      ],
      "metadata": {
        "colab": {
          "base_uri": "https://localhost:8080/"
        },
        "id": "lIO7QaTCv-mF",
        "outputId": "41e82883-3bb9-4bd5-f38c-6ea938b71c4b"
      },
      "execution_count": 7,
      "outputs": [
        {
          "output_type": "execute_result",
          "data": {
            "text/plain": [
              "(404,)"
            ]
          },
          "metadata": {},
          "execution_count": 7
        }
      ]
    },
    {
      "cell_type": "code",
      "source": [
        "y_test.shape"
      ],
      "metadata": {
        "colab": {
          "base_uri": "https://localhost:8080/"
        },
        "id": "GDZ7SmAJwBFe",
        "outputId": "8f19dc36-665c-4024-fe18-ca48910a96d0"
      },
      "execution_count": 8,
      "outputs": [
        {
          "output_type": "execute_result",
          "data": {
            "text/plain": [
              "(102,)"
            ]
          },
          "metadata": {},
          "execution_count": 8
        }
      ]
    },
    {
      "cell_type": "code",
      "source": [
        "X_train[0]"
      ],
      "metadata": {
        "colab": {
          "base_uri": "https://localhost:8080/"
        },
        "id": "6GSp1oabwDkg",
        "outputId": "4d03477f-1572-4508-9ac3-ea95db7e4694"
      },
      "execution_count": 9,
      "outputs": [
        {
          "output_type": "execute_result",
          "data": {
            "text/plain": [
              "array([  1.23247,   0.     ,   8.14   ,   0.     ,   0.538  ,   6.142  ,\n",
              "        91.7    ,   3.9769 ,   4.     , 307.     ,  21.     , 396.9    ,\n",
              "        18.72   ])"
            ]
          },
          "metadata": {},
          "execution_count": 9
        }
      ]
    },
    {
      "cell_type": "code",
      "source": [
        "y_train[0]"
      ],
      "metadata": {
        "colab": {
          "base_uri": "https://localhost:8080/"
        },
        "id": "iJ7ygQm9z7Lr",
        "outputId": "907ce6a0-2b88-4011-c4cc-5759983a4e96"
      },
      "execution_count": 10,
      "outputs": [
        {
          "output_type": "execute_result",
          "data": {
            "text/plain": [
              "15.2"
            ]
          },
          "metadata": {},
          "execution_count": 10
        }
      ]
    },
    {
      "cell_type": "code",
      "source": [
        "model = Sequential()\n",
        "#輸入層+第一隱藏層\n",
        "model.add(Dense(32, activation='relu', input_dim=13))\n",
        "model.add(BatchNormalization())\n",
        "#第二隱藏層\n",
        "model.add(Dense(16, activation='relu'))\n",
        "model.add(BatchNormalization())\n",
        "model.add(Dropout(0.2)) #每批次隨機丟棄此層 20% 神經元\n",
        "#輸出層\n",
        "model.add(Dense(1, activation='linear'))"
      ],
      "metadata": {
        "id": "3Z7Tjy270AV6"
      },
      "execution_count": 11,
      "outputs": []
    },
    {
      "cell_type": "code",
      "source": [
        "model.summary()"
      ],
      "metadata": {
        "colab": {
          "base_uri": "https://localhost:8080/"
        },
        "id": "YcuiDANI9gnM",
        "outputId": "27c05e81-8c7b-4c42-ec64-76b274b5614c"
      },
      "execution_count": 12,
      "outputs": [
        {
          "output_type": "stream",
          "name": "stdout",
          "text": [
            "Model: \"sequential\"\n",
            "_________________________________________________________________\n",
            " Layer (type)                Output Shape              Param #   \n",
            "=================================================================\n",
            " dense (Dense)               (None, 32)                448       \n",
            "                                                                 \n",
            " batch_normalization (BatchN  (None, 32)               128       \n",
            " ormalization)                                                   \n",
            "                                                                 \n",
            " dense_1 (Dense)             (None, 16)                528       \n",
            "                                                                 \n",
            " batch_normalization_1 (Batc  (None, 16)               64        \n",
            " hNormalization)                                                 \n",
            "                                                                 \n",
            " dropout (Dropout)           (None, 16)                0         \n",
            "                                                                 \n",
            " dense_2 (Dense)             (None, 1)                 17        \n",
            "                                                                 \n",
            "=================================================================\n",
            "Total params: 1,185\n",
            "Trainable params: 1,089\n",
            "Non-trainable params: 96\n",
            "_________________________________________________________________\n"
          ]
        }
      ]
    },
    {
      "cell_type": "code",
      "source": [
        "model.compile(loss='mean_squared_error', optimizer='adam')"
      ],
      "metadata": {
        "id": "D3hHjGDZ9uJj"
      },
      "execution_count": 16,
      "outputs": []
    },
    {
      "cell_type": "code",
      "source": [
        "model.fit(X_train, y_train, batch_size=8, epochs=32, verbose=1, validation_data=(X_test, y_test))"
      ],
      "metadata": {
        "colab": {
          "base_uri": "https://localhost:8080/"
        },
        "id": "pmIhCY0o-mwN",
        "outputId": "03966a69-15ee-439f-dcda-72b2cfabbf8e"
      },
      "execution_count": 17,
      "outputs": [
        {
          "output_type": "stream",
          "name": "stdout",
          "text": [
            "Epoch 1/32\n",
            "51/51 [==============================] - 1s 5ms/step - loss: 572.9877 - val_loss: 824.5037\n",
            "Epoch 2/32\n",
            "51/51 [==============================] - 0s 3ms/step - loss: 549.7323 - val_loss: 672.1985\n",
            "Epoch 3/32\n",
            "51/51 [==============================] - 0s 2ms/step - loss: 532.7701 - val_loss: 588.1625\n",
            "Epoch 4/32\n",
            "51/51 [==============================] - 0s 3ms/step - loss: 514.0558 - val_loss: 531.2495\n",
            "Epoch 5/32\n",
            "51/51 [==============================] - 0s 3ms/step - loss: 484.9243 - val_loss: 516.3132\n",
            "Epoch 6/32\n",
            "51/51 [==============================] - 0s 3ms/step - loss: 458.7413 - val_loss: 501.1550\n",
            "Epoch 7/32\n",
            "51/51 [==============================] - 0s 3ms/step - loss: 427.1289 - val_loss: 545.8367\n",
            "Epoch 8/32\n",
            "51/51 [==============================] - 0s 2ms/step - loss: 394.9926 - val_loss: 431.6268\n",
            "Epoch 9/32\n",
            "51/51 [==============================] - 0s 3ms/step - loss: 357.4897 - val_loss: 370.0323\n",
            "Epoch 10/32\n",
            "51/51 [==============================] - 0s 3ms/step - loss: 314.8242 - val_loss: 341.9482\n",
            "Epoch 11/32\n",
            "51/51 [==============================] - 0s 3ms/step - loss: 268.4231 - val_loss: 265.1596\n",
            "Epoch 12/32\n",
            "51/51 [==============================] - 0s 3ms/step - loss: 231.4746 - val_loss: 298.1854\n",
            "Epoch 13/32\n",
            "51/51 [==============================] - 0s 2ms/step - loss: 206.7765 - val_loss: 213.0344\n",
            "Epoch 14/32\n",
            "51/51 [==============================] - 0s 3ms/step - loss: 170.5674 - val_loss: 257.1307\n",
            "Epoch 15/32\n",
            "51/51 [==============================] - 0s 3ms/step - loss: 140.0295 - val_loss: 147.6509\n",
            "Epoch 16/32\n",
            "51/51 [==============================] - 0s 3ms/step - loss: 109.1369 - val_loss: 44.9880\n",
            "Epoch 17/32\n",
            "51/51 [==============================] - 0s 3ms/step - loss: 102.3804 - val_loss: 83.5773\n",
            "Epoch 18/32\n",
            "51/51 [==============================] - 0s 3ms/step - loss: 78.9098 - val_loss: 92.3983\n",
            "Epoch 19/32\n",
            "51/51 [==============================] - 0s 3ms/step - loss: 73.3223 - val_loss: 50.3318\n",
            "Epoch 20/32\n",
            "51/51 [==============================] - 0s 3ms/step - loss: 63.6240 - val_loss: 66.1777\n",
            "Epoch 21/32\n",
            "51/51 [==============================] - 0s 3ms/step - loss: 54.0509 - val_loss: 126.0344\n",
            "Epoch 22/32\n",
            "51/51 [==============================] - 0s 3ms/step - loss: 50.0728 - val_loss: 29.7983\n",
            "Epoch 23/32\n",
            "51/51 [==============================] - 0s 3ms/step - loss: 42.3481 - val_loss: 81.2242\n",
            "Epoch 24/32\n",
            "51/51 [==============================] - 0s 3ms/step - loss: 53.8040 - val_loss: 54.9041\n",
            "Epoch 25/32\n",
            "51/51 [==============================] - 0s 2ms/step - loss: 46.3536 - val_loss: 27.4929\n",
            "Epoch 26/32\n",
            "51/51 [==============================] - 0s 3ms/step - loss: 46.4536 - val_loss: 30.3088\n",
            "Epoch 27/32\n",
            "51/51 [==============================] - 0s 3ms/step - loss: 54.3263 - val_loss: 48.0183\n",
            "Epoch 28/32\n",
            "51/51 [==============================] - 0s 3ms/step - loss: 44.2519 - val_loss: 32.7387\n",
            "Epoch 29/32\n",
            "51/51 [==============================] - 0s 2ms/step - loss: 42.2859 - val_loss: 25.9799\n",
            "Epoch 30/32\n",
            "51/51 [==============================] - 0s 3ms/step - loss: 40.5886 - val_loss: 26.4892\n",
            "Epoch 31/32\n",
            "51/51 [==============================] - 0s 2ms/step - loss: 44.0036 - val_loss: 29.4092\n",
            "Epoch 32/32\n",
            "51/51 [==============================] - 0s 3ms/step - loss: 42.1223 - val_loss: 33.7012\n"
          ]
        },
        {
          "output_type": "execute_result",
          "data": {
            "text/plain": [
              "<keras.callbacks.History at 0x7fbc9fc7e4d0>"
            ]
          },
          "metadata": {},
          "execution_count": 17
        }
      ]
    },
    {
      "cell_type": "code",
      "source": [
        "model.predict(np.reshape(X_test[42], [1, 13]))"
      ],
      "metadata": {
        "colab": {
          "base_uri": "https://localhost:8080/"
        },
        "id": "J_tKhjNHAeUR",
        "outputId": "874261b1-0c26-4f9d-aebb-cb5fe16501c9"
      },
      "execution_count": 18,
      "outputs": [
        {
          "output_type": "execute_result",
          "data": {
            "text/plain": [
              "array([[17.234053]], dtype=float32)"
            ]
          },
          "metadata": {},
          "execution_count": 18
        }
      ]
    },
    {
      "cell_type": "code",
      "source": [
        "y_test[42]"
      ],
      "metadata": {
        "colab": {
          "base_uri": "https://localhost:8080/"
        },
        "id": "SH1G2xPJBpCH",
        "outputId": "5a9f6543-d2f2-439e-f1e1-72fc3e09dcb8"
      },
      "execution_count": 19,
      "outputs": [
        {
          "output_type": "execute_result",
          "data": {
            "text/plain": [
              "14.1"
            ]
          },
          "metadata": {},
          "execution_count": 19
        }
      ]
    }
  ]
}