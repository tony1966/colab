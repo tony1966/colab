{
  "nbformat": 4,
  "nbformat_minor": 0,
  "metadata": {
    "colab": {
      "name": "deep_learning_illustrated_ch9_deep_mnist.ipynb",
      "provenance": [],
      "collapsed_sections": [],
      "authorship_tag": "ABX9TyORbmYdtg+nQkPrXPHimTtP",
      "include_colab_link": true
    },
    "kernelspec": {
      "name": "python3",
      "display_name": "Python 3"
    },
    "language_info": {
      "name": "python"
    }
  },
  "cells": [
    {
      "cell_type": "markdown",
      "metadata": {
        "id": "view-in-github",
        "colab_type": "text"
      },
      "source": [
        "<a href=\"https://colab.research.google.com/github/tony1966/colab/blob/main/deep_learning_illustrated_ch9_deep_mnist.ipynb\" target=\"_parent\"><img src=\"https://colab.research.google.com/assets/colab-badge.svg\" alt=\"Open In Colab\"/></a>"
      ]
    },
    {
      "cell_type": "code",
      "execution_count": 2,
      "metadata": {
        "id": "xzG7vZY25vuw"
      },
      "outputs": [],
      "source": [
        "from tensorflow.keras.datasets import mnist     \n",
        "from tensorflow.keras.models import Sequential   \n",
        "from tensorflow.keras.layers import Dense  \n",
        "from tensorflow.keras.layers import Dropout #新增\n",
        "from tensorflow.keras.layers import BatchNormalization #新增          \n",
        "from tensorflow.keras.utils import to_categorical  \n",
        "from tensorflow.keras.optimizers import SGD"
      ]
    },
    {
      "cell_type": "code",
      "source": [
        "(X_train, y_train), (X_test, y_test)=mnist.load_data()"
      ],
      "metadata": {
        "colab": {
          "base_uri": "https://localhost:8080/"
        },
        "id": "KkZzfoTy6w8A",
        "outputId": "cb67c50c-da15-4669-cf13-df4b08a8e8a2"
      },
      "execution_count": 3,
      "outputs": [
        {
          "output_type": "stream",
          "name": "stdout",
          "text": [
            "Downloading data from https://storage.googleapis.com/tensorflow/tf-keras-datasets/mnist.npz\n",
            "11493376/11490434 [==============================] - 0s 0us/step\n",
            "11501568/11490434 [==============================] - 0s 0us/step\n"
          ]
        }
      ]
    },
    {
      "cell_type": "code",
      "source": [
        "X_train=X_train.reshape(60000, 784).astype('float32') \n",
        "X_test=X_test.reshape(10000, 784).astype('float32') \n",
        "X_train /= 255 \n",
        "X_test /= 255 "
      ],
      "metadata": {
        "id": "PQ0gBvGs8Irg"
      },
      "execution_count": 4,
      "outputs": []
    },
    {
      "cell_type": "code",
      "source": [
        "y_train=to_categorical(y_train, 10) \n",
        "y_test=to_categorical(y_test, 10) "
      ],
      "metadata": {
        "id": "DD-9wJZX8U1d"
      },
      "execution_count": 5,
      "outputs": []
    },
    {
      "cell_type": "code",
      "source": [
        "model = Sequential()\n",
        "#輸入層+第一隱藏層\n",
        "model.add(Dense(64, activation='relu', input_shape=(784,)))\n",
        "model.add(BatchNormalization())\n",
        "#第二隱藏層\n",
        "model.add(Dense(64, activation='relu'))\n",
        "model.add(BatchNormalization())\n",
        "#第三隱藏層\n",
        "model.add(Dense(64, activation='relu'))\n",
        "model.add(BatchNormalization()) #批次正規化\n",
        "model.add(Dropout(0.2)) #每批次隨機丟棄此層 20% 神經元\n",
        "#輸出層\n",
        "model.add(Dense(10, activation='softmax'))"
      ],
      "metadata": {
        "id": "op05nCE58moS"
      },
      "execution_count": 6,
      "outputs": []
    },
    {
      "cell_type": "code",
      "source": [
        "model.summary()"
      ],
      "metadata": {
        "colab": {
          "base_uri": "https://localhost:8080/"
        },
        "id": "GwtwEpNW9qKg",
        "outputId": "7467c021-1978-47ac-cbe8-35ba24bae75b"
      },
      "execution_count": 7,
      "outputs": [
        {
          "output_type": "stream",
          "name": "stdout",
          "text": [
            "Model: \"sequential\"\n",
            "_________________________________________________________________\n",
            " Layer (type)                Output Shape              Param #   \n",
            "=================================================================\n",
            " dense (Dense)               (None, 64)                50240     \n",
            "                                                                 \n",
            " batch_normalization (BatchN  (None, 64)               256       \n",
            " ormalization)                                                   \n",
            "                                                                 \n",
            " dense_1 (Dense)             (None, 64)                4160      \n",
            "                                                                 \n",
            " batch_normalization_1 (Batc  (None, 64)               256       \n",
            " hNormalization)                                                 \n",
            "                                                                 \n",
            " dense_2 (Dense)             (None, 64)                4160      \n",
            "                                                                 \n",
            " batch_normalization_2 (Batc  (None, 64)               256       \n",
            " hNormalization)                                                 \n",
            "                                                                 \n",
            " dropout (Dropout)           (None, 64)                0         \n",
            "                                                                 \n",
            " dense_3 (Dense)             (None, 10)                650       \n",
            "                                                                 \n",
            "=================================================================\n",
            "Total params: 59,978\n",
            "Trainable params: 59,594\n",
            "Non-trainable params: 384\n",
            "_________________________________________________________________\n"
          ]
        }
      ]
    },
    {
      "cell_type": "code",
      "source": [
        "model.compile(loss='categorical_crossentropy', optimizer='adam', metrics=['accuracy'])"
      ],
      "metadata": {
        "id": "tb5_tA-MB8Fu"
      },
      "execution_count": 8,
      "outputs": []
    },
    {
      "cell_type": "code",
      "source": [
        "model.fit(X_train, y_train, batch_size=128, epochs=20, verbose=1, validation_data=(X_test, y_test))"
      ],
      "metadata": {
        "colab": {
          "base_uri": "https://localhost:8080/"
        },
        "id": "NXAI1ajTCTw7",
        "outputId": "9e71530e-277f-43fe-fb0d-9388cd630aaa"
      },
      "execution_count": 9,
      "outputs": [
        {
          "output_type": "stream",
          "name": "stdout",
          "text": [
            "Epoch 1/20\n",
            "469/469 [==============================] - 4s 6ms/step - loss: 0.3788 - accuracy: 0.8862 - val_loss: 0.1552 - val_accuracy: 0.9539\n",
            "Epoch 2/20\n",
            "469/469 [==============================] - 3s 7ms/step - loss: 0.1485 - accuracy: 0.9559 - val_loss: 0.1243 - val_accuracy: 0.9599\n",
            "Epoch 3/20\n",
            "469/469 [==============================] - 3s 6ms/step - loss: 0.1095 - accuracy: 0.9676 - val_loss: 0.1027 - val_accuracy: 0.9678\n",
            "Epoch 4/20\n",
            "469/469 [==============================] - 3s 6ms/step - loss: 0.0869 - accuracy: 0.9727 - val_loss: 0.0944 - val_accuracy: 0.9728\n",
            "Epoch 5/20\n",
            "469/469 [==============================] - 3s 6ms/step - loss: 0.0741 - accuracy: 0.9768 - val_loss: 0.0957 - val_accuracy: 0.9721\n",
            "Epoch 6/20\n",
            "469/469 [==============================] - 3s 6ms/step - loss: 0.0638 - accuracy: 0.9798 - val_loss: 0.1025 - val_accuracy: 0.9688\n",
            "Epoch 7/20\n",
            "469/469 [==============================] - 3s 6ms/step - loss: 0.0568 - accuracy: 0.9815 - val_loss: 0.1018 - val_accuracy: 0.9696\n",
            "Epoch 8/20\n",
            "469/469 [==============================] - 3s 6ms/step - loss: 0.0497 - accuracy: 0.9839 - val_loss: 0.0943 - val_accuracy: 0.9747\n",
            "Epoch 9/20\n",
            "469/469 [==============================] - 3s 7ms/step - loss: 0.0485 - accuracy: 0.9844 - val_loss: 0.0946 - val_accuracy: 0.9713\n",
            "Epoch 10/20\n",
            "469/469 [==============================] - 3s 7ms/step - loss: 0.0426 - accuracy: 0.9859 - val_loss: 0.1122 - val_accuracy: 0.9680\n",
            "Epoch 11/20\n",
            "469/469 [==============================] - 3s 7ms/step - loss: 0.0377 - accuracy: 0.9870 - val_loss: 0.0909 - val_accuracy: 0.9752\n",
            "Epoch 12/20\n",
            "469/469 [==============================] - 3s 6ms/step - loss: 0.0340 - accuracy: 0.9885 - val_loss: 0.0930 - val_accuracy: 0.9747\n",
            "Epoch 13/20\n",
            "469/469 [==============================] - 3s 6ms/step - loss: 0.0326 - accuracy: 0.9895 - val_loss: 0.0919 - val_accuracy: 0.9744\n",
            "Epoch 14/20\n",
            "469/469 [==============================] - 3s 6ms/step - loss: 0.0302 - accuracy: 0.9895 - val_loss: 0.1060 - val_accuracy: 0.9723\n",
            "Epoch 15/20\n",
            "469/469 [==============================] - 3s 6ms/step - loss: 0.0294 - accuracy: 0.9905 - val_loss: 0.0916 - val_accuracy: 0.9755\n",
            "Epoch 16/20\n",
            "469/469 [==============================] - 3s 6ms/step - loss: 0.0269 - accuracy: 0.9909 - val_loss: 0.1103 - val_accuracy: 0.9721\n",
            "Epoch 17/20\n",
            "469/469 [==============================] - 3s 6ms/step - loss: 0.0247 - accuracy: 0.9914 - val_loss: 0.0971 - val_accuracy: 0.9742\n",
            "Epoch 18/20\n",
            "469/469 [==============================] - 3s 6ms/step - loss: 0.0247 - accuracy: 0.9914 - val_loss: 0.0928 - val_accuracy: 0.9764\n",
            "Epoch 19/20\n",
            "469/469 [==============================] - 3s 6ms/step - loss: 0.0234 - accuracy: 0.9922 - val_loss: 0.0943 - val_accuracy: 0.9770\n",
            "Epoch 20/20\n",
            "469/469 [==============================] - 3s 6ms/step - loss: 0.0202 - accuracy: 0.9925 - val_loss: 0.1093 - val_accuracy: 0.9751\n"
          ]
        },
        {
          "output_type": "execute_result",
          "data": {
            "text/plain": [
              "<keras.callbacks.History at 0x7f25fc117450>"
            ]
          },
          "metadata": {},
          "execution_count": 9
        }
      ]
    },
    {
      "cell_type": "code",
      "source": [
        ""
      ],
      "metadata": {
        "id": "3hrKVlOpDDhs"
      },
      "execution_count": null,
      "outputs": []
    }
  ]
}