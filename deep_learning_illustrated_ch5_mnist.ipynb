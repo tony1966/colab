{
  "nbformat": 4,
  "nbformat_minor": 0,
  "metadata": {
    "colab": {
      "name": "deep_learning_illustrated_ch5_mnist.ipynb",
      "provenance": [],
      "authorship_tag": "ABX9TyM1QbezSnQR5AsbdWByt7cy",
      "include_colab_link": true
    },
    "kernelspec": {
      "name": "python3",
      "display_name": "Python 3"
    },
    "language_info": {
      "name": "python"
    }
  },
  "cells": [
    {
      "cell_type": "markdown",
      "metadata": {
        "id": "view-in-github",
        "colab_type": "text"
      },
      "source": [
        "<a href=\"https://colab.research.google.com/github/tony1966/colab/blob/main/deep_learning_illustrated_ch5_mnist.ipynb\" target=\"_parent\"><img src=\"https://colab.research.google.com/assets/colab-badge.svg\" alt=\"Open In Colab\"/></a>"
      ]
    },
    {
      "cell_type": "code",
      "source": [
        "%matplotlib inline"
      ],
      "metadata": {
        "id": "myeym473MvYa"
      },
      "execution_count": 6,
      "outputs": []
    },
    {
      "cell_type": "code",
      "source": [
        "from tensorflow.keras.datasets import mnist\n",
        "from tensorflow.keras.models import Sequential\n",
        "from tensorflow.keras.layers import Dense\n",
        "from tensorflow.keras import optimizers\n",
        "from tensorflow.keras.utils import plot_model\n",
        "from tensorflow.keras.utils import to_categorical\n",
        "import matplotlib.pyplot as plt\n",
        "import numpy as np"
      ],
      "metadata": {
        "id": "wOqDeazWM0VJ"
      },
      "execution_count": 7,
      "outputs": []
    },
    {
      "cell_type": "code",
      "source": [
        "(X_train, y_train), (X_test, y_test)=mnist.load_data()"
      ],
      "metadata": {
        "colab": {
          "base_uri": "https://localhost:8080/"
        },
        "id": "c7wCtbMvPoDl",
        "outputId": "440ff499-a7f9-4807-d616-6a2453d91f01"
      },
      "execution_count": 8,
      "outputs": [
        {
          "output_type": "stream",
          "name": "stdout",
          "text": [
            "Downloading data from https://storage.googleapis.com/tensorflow/tf-keras-datasets/mnist.npz\n",
            "11493376/11490434 [==============================] - 0s 0us/step\n",
            "11501568/11490434 [==============================] - 0s 0us/step\n"
          ]
        }
      ]
    },
    {
      "cell_type": "code",
      "source": [
        "X_train.shape"
      ],
      "metadata": {
        "colab": {
          "base_uri": "https://localhost:8080/"
        },
        "id": "1ZjHMVFLPtZi",
        "outputId": "e49c95c2-280e-4d2a-9070-dbd1ae51d0ad"
      },
      "execution_count": 9,
      "outputs": [
        {
          "output_type": "execute_result",
          "data": {
            "text/plain": [
              "(60000, 28, 28)"
            ]
          },
          "metadata": {},
          "execution_count": 9
        }
      ]
    },
    {
      "cell_type": "code",
      "source": [
        "np.set_printoptions(linewidth=np.inf)\n",
        "X_train[0]"
      ],
      "metadata": {
        "colab": {
          "base_uri": "https://localhost:8080/"
        },
        "id": "prN5Yq0vufJD",
        "outputId": "4939ebf0-dff8-4343-8247-b38b78941e3d"
      },
      "execution_count": 10,
      "outputs": [
        {
          "output_type": "execute_result",
          "data": {
            "text/plain": [
              "array([[  0,   0,   0,   0,   0,   0,   0,   0,   0,   0,   0,   0,   0,   0,   0,   0,   0,   0,   0,   0,   0,   0,   0,   0,   0,   0,   0,   0],\n",
              "       [  0,   0,   0,   0,   0,   0,   0,   0,   0,   0,   0,   0,   0,   0,   0,   0,   0,   0,   0,   0,   0,   0,   0,   0,   0,   0,   0,   0],\n",
              "       [  0,   0,   0,   0,   0,   0,   0,   0,   0,   0,   0,   0,   0,   0,   0,   0,   0,   0,   0,   0,   0,   0,   0,   0,   0,   0,   0,   0],\n",
              "       [  0,   0,   0,   0,   0,   0,   0,   0,   0,   0,   0,   0,   0,   0,   0,   0,   0,   0,   0,   0,   0,   0,   0,   0,   0,   0,   0,   0],\n",
              "       [  0,   0,   0,   0,   0,   0,   0,   0,   0,   0,   0,   0,   0,   0,   0,   0,   0,   0,   0,   0,   0,   0,   0,   0,   0,   0,   0,   0],\n",
              "       [  0,   0,   0,   0,   0,   0,   0,   0,   0,   0,   0,   0,   3,  18,  18,  18, 126, 136, 175,  26, 166, 255, 247, 127,   0,   0,   0,   0],\n",
              "       [  0,   0,   0,   0,   0,   0,   0,   0,  30,  36,  94, 154, 170, 253, 253, 253, 253, 253, 225, 172, 253, 242, 195,  64,   0,   0,   0,   0],\n",
              "       [  0,   0,   0,   0,   0,   0,   0,  49, 238, 253, 253, 253, 253, 253, 253, 253, 253, 251,  93,  82,  82,  56,  39,   0,   0,   0,   0,   0],\n",
              "       [  0,   0,   0,   0,   0,   0,   0,  18, 219, 253, 253, 253, 253, 253, 198, 182, 247, 241,   0,   0,   0,   0,   0,   0,   0,   0,   0,   0],\n",
              "       [  0,   0,   0,   0,   0,   0,   0,   0,  80, 156, 107, 253, 253, 205,  11,   0,  43, 154,   0,   0,   0,   0,   0,   0,   0,   0,   0,   0],\n",
              "       [  0,   0,   0,   0,   0,   0,   0,   0,   0,  14,   1, 154, 253,  90,   0,   0,   0,   0,   0,   0,   0,   0,   0,   0,   0,   0,   0,   0],\n",
              "       [  0,   0,   0,   0,   0,   0,   0,   0,   0,   0,   0, 139, 253, 190,   2,   0,   0,   0,   0,   0,   0,   0,   0,   0,   0,   0,   0,   0],\n",
              "       [  0,   0,   0,   0,   0,   0,   0,   0,   0,   0,   0,  11, 190, 253,  70,   0,   0,   0,   0,   0,   0,   0,   0,   0,   0,   0,   0,   0],\n",
              "       [  0,   0,   0,   0,   0,   0,   0,   0,   0,   0,   0,   0,  35, 241, 225, 160, 108,   1,   0,   0,   0,   0,   0,   0,   0,   0,   0,   0],\n",
              "       [  0,   0,   0,   0,   0,   0,   0,   0,   0,   0,   0,   0,   0,  81, 240, 253, 253, 119,  25,   0,   0,   0,   0,   0,   0,   0,   0,   0],\n",
              "       [  0,   0,   0,   0,   0,   0,   0,   0,   0,   0,   0,   0,   0,   0,  45, 186, 253, 253, 150,  27,   0,   0,   0,   0,   0,   0,   0,   0],\n",
              "       [  0,   0,   0,   0,   0,   0,   0,   0,   0,   0,   0,   0,   0,   0,   0,  16,  93, 252, 253, 187,   0,   0,   0,   0,   0,   0,   0,   0],\n",
              "       [  0,   0,   0,   0,   0,   0,   0,   0,   0,   0,   0,   0,   0,   0,   0,   0,   0, 249, 253, 249,  64,   0,   0,   0,   0,   0,   0,   0],\n",
              "       [  0,   0,   0,   0,   0,   0,   0,   0,   0,   0,   0,   0,   0,   0,  46, 130, 183, 253, 253, 207,   2,   0,   0,   0,   0,   0,   0,   0],\n",
              "       [  0,   0,   0,   0,   0,   0,   0,   0,   0,   0,   0,   0,  39, 148, 229, 253, 253, 253, 250, 182,   0,   0,   0,   0,   0,   0,   0,   0],\n",
              "       [  0,   0,   0,   0,   0,   0,   0,   0,   0,   0,  24, 114, 221, 253, 253, 253, 253, 201,  78,   0,   0,   0,   0,   0,   0,   0,   0,   0],\n",
              "       [  0,   0,   0,   0,   0,   0,   0,   0,  23,  66, 213, 253, 253, 253, 253, 198,  81,   2,   0,   0,   0,   0,   0,   0,   0,   0,   0,   0],\n",
              "       [  0,   0,   0,   0,   0,   0,  18, 171, 219, 253, 253, 253, 253, 195,  80,   9,   0,   0,   0,   0,   0,   0,   0,   0,   0,   0,   0,   0],\n",
              "       [  0,   0,   0,   0,  55, 172, 226, 253, 253, 253, 253, 244, 133,  11,   0,   0,   0,   0,   0,   0,   0,   0,   0,   0,   0,   0,   0,   0],\n",
              "       [  0,   0,   0,   0, 136, 253, 253, 253, 212, 135, 132,  16,   0,   0,   0,   0,   0,   0,   0,   0,   0,   0,   0,   0,   0,   0,   0,   0],\n",
              "       [  0,   0,   0,   0,   0,   0,   0,   0,   0,   0,   0,   0,   0,   0,   0,   0,   0,   0,   0,   0,   0,   0,   0,   0,   0,   0,   0,   0],\n",
              "       [  0,   0,   0,   0,   0,   0,   0,   0,   0,   0,   0,   0,   0,   0,   0,   0,   0,   0,   0,   0,   0,   0,   0,   0,   0,   0,   0,   0],\n",
              "       [  0,   0,   0,   0,   0,   0,   0,   0,   0,   0,   0,   0,   0,   0,   0,   0,   0,   0,   0,   0,   0,   0,   0,   0,   0,   0,   0,   0]], dtype=uint8)"
            ]
          },
          "metadata": {},
          "execution_count": 10
        }
      ]
    },
    {
      "cell_type": "code",
      "source": [
        "y_train[0:12]"
      ],
      "metadata": {
        "colab": {
          "base_uri": "https://localhost:8080/"
        },
        "id": "R4WaIn-QvNpw",
        "outputId": "f7e62ebb-d1d7-474d-adcc-b5c87c923bd9"
      },
      "execution_count": 11,
      "outputs": [
        {
          "output_type": "execute_result",
          "data": {
            "text/plain": [
              "array([5, 0, 4, 1, 9, 2, 1, 3, 1, 4, 3, 5], dtype=uint8)"
            ]
          },
          "metadata": {},
          "execution_count": 11
        }
      ]
    },
    {
      "cell_type": "code",
      "source": [
        "plt.figure(figsize=(5, 5))\n",
        "for k in range(12):\n",
        "  plt.subplot(3, 4, k+1)\n",
        "  plt.imshow(X_train[k], cmap='gray')\n",
        "plt.tight_layout()\n",
        "plt.show()"
      ],
      "metadata": {
        "colab": {
          "base_uri": "https://localhost:8080/",
          "height": 336
        },
        "id": "uluZIhCUjY1Y",
        "outputId": "58eb1bef-2f90-487a-a75d-5208d3d95878"
      },
      "execution_count": 14,
      "outputs": [
        {
          "output_type": "display_data",
          "data": {
            "text/plain": [
              "<Figure size 360x360 with 12 Axes>"
            ],
            "image/png": "[encoded data removed]"
          },
          "metadata": {
            "needs_background": "light"
          }
        }
      ]
    },
    {
      "cell_type": "code",
      "source": [
        "X_train=X_train.reshape(60000, 784).astype('float32')\n",
        "X_test=X_test.reshape(10000, 784).astype('float32')\n",
        "X_train /= 255\n",
        "X_test /= 255"
      ],
      "metadata": {
        "id": "363ZFNBXsmJn"
      },
      "execution_count": 16,
      "outputs": []
    },
    {
      "cell_type": "code",
      "source": [
        "X_train[0]"
      ],
      "metadata": {
        "colab": {
          "base_uri": "https://localhost:8080/"
        },
        "id": "VRSmnoBcteQW",
        "outputId": "d198faa3-fbe7-4097-def6-f29b42ce5f02"
      },
      "execution_count": 18,
      "outputs": [
        {
          "output_type": "execute_result",
          "data": {
            "text/plain": [
              "array([0.        , 0.        , 0.        , 0.        , 0.        , 0.        , 0.        , 0.        , 0.        , 0.        , 0.        , 0.        , 0.        , 0.        , 0.        , 0.        , 0.        , 0.        , 0.        , 0.        , 0.        , 0.        , 0.        , 0.        , 0.        , 0.        , 0.        , 0.        , 0.        , 0.        , 0.        , 0.        , 0.        , 0.        , 0.        , 0.        , 0.        , 0.        , 0.        , 0.        , 0.        , 0.        , 0.        , 0.        , 0.        , 0.        , 0.        , 0.        , 0.        , 0.        , 0.        , 0.        , 0.        , 0.        , 0.        , 0.        , 0.        , 0.        , 0.        , 0.        , 0.        , 0.        , 0.        , 0.        , 0.        , 0.        , 0.        , 0.        , 0.        , 0.        , 0.        , 0.        , 0.        , 0.        , 0.        , 0.        , 0.        , 0.        , 0.        , 0.        , 0.        , 0.        , 0.        , 0.        , 0.        , 0.        , 0.        , 0.        , 0.        , 0.        , 0.        , 0.        , 0.        , 0.        , 0.        , 0.        , 0.        , 0.        , 0.        , 0.        , 0.        , 0.        , 0.        , 0.        , 0.        , 0.        , 0.        , 0.        , 0.        , 0.        , 0.        , 0.        , 0.        , 0.        , 0.        , 0.        , 0.        , 0.        , 0.        , 0.        , 0.        , 0.        , 0.        , 0.        , 0.        , 0.        , 0.        , 0.        , 0.        , 0.        , 0.        , 0.        , 0.        , 0.        , 0.        , 0.        , 0.        , 0.        , 0.        , 0.        , 0.        , 0.        , 0.        , 0.        , 0.        , 0.        , 0.        , 0.        , 0.        , 0.        , 0.        , 0.        , 0.01176471, 0.07058824, 0.07058824, 0.07058824, 0.49411765, 0.53333336, 0.6862745 , 0.10196079, 0.6509804 , 1.        , 0.96862745, 0.49803922, 0.        , 0.        , 0.        , 0.        , 0.        , 0.        , 0.        , 0.        , 0.        , 0.        , 0.        , 0.        , 0.11764706, 0.14117648, 0.36862746, 0.6039216 , 0.6666667 , 0.99215686, 0.99215686, 0.99215686, 0.99215686, 0.99215686, 0.88235295, 0.6745098 , 0.99215686, 0.9490196 , 0.7647059 , 0.2509804 , 0.        , 0.        , 0.        , 0.        , 0.        , 0.        , 0.        , 0.        , 0.        , 0.        , 0.        , 0.19215687, 0.93333334, 0.99215686, 0.99215686, 0.99215686, 0.99215686, 0.99215686, 0.99215686, 0.99215686, 0.99215686, 0.9843137 , 0.3647059 , 0.32156864, 0.32156864, 0.21960784, 0.15294118, 0.        , 0.        , 0.        , 0.        , 0.        , 0.        , 0.        , 0.        , 0.        , 0.        , 0.        , 0.        , 0.07058824, 0.85882354, 0.99215686, 0.99215686, 0.99215686, 0.99215686, 0.99215686, 0.7764706 , 0.7137255 , 0.96862745, 0.94509804, 0.        , 0.        , 0.        , 0.        , 0.        , 0.        , 0.        , 0.        , 0.        , 0.        , 0.        , 0.        , 0.        , 0.        , 0.        , 0.        , 0.        , 0.        , 0.3137255 , 0.6117647 , 0.41960785, 0.99215686, 0.99215686, 0.8039216 , 0.04313726, 0.        , 0.16862746, 0.6039216 , 0.        , 0.        , 0.        , 0.        , 0.        , 0.        , 0.        , 0.        , 0.        , 0.        , 0.        , 0.        , 0.        , 0.        , 0.        , 0.        , 0.        , 0.        , 0.        , 0.05490196, 0.00392157, 0.6039216 , 0.99215686, 0.3529412 , 0.        , 0.        , 0.        , 0.        , 0.        , 0.        , 0.        , 0.        , 0.        , 0.        , 0.        , 0.        , 0.        , 0.        , 0.        , 0.        , 0.        , 0.        , 0.        , 0.        , 0.        , 0.        , 0.        , 0.        , 0.        , 0.54509807, 0.99215686, 0.74509805, 0.00784314, 0.        , 0.        , 0.        , 0.        , 0.        , 0.        , 0.        , 0.        , 0.        , 0.        , 0.        , 0.        , 0.        , 0.        , 0.        , 0.        , 0.        , 0.        , 0.        , 0.        , 0.        , 0.        , 0.        , 0.        , 0.04313726, 0.74509805, 0.99215686, 0.27450982, 0.        , 0.        , 0.        , 0.        , 0.        , 0.        , 0.        , 0.        , 0.        , 0.        , 0.        , 0.        , 0.        , 0.        , 0.        , 0.        , 0.        , 0.        , 0.        , 0.        , 0.        , 0.        , 0.        , 0.        , 0.        , 0.13725491, 0.94509804, 0.88235295, 0.627451  , 0.42352942, 0.00392157, 0.        , 0.        , 0.        , 0.        , 0.        , 0.        , 0.        , 0.        , 0.        , 0.        , 0.        , 0.        , 0.        , 0.        , 0.        , 0.        , 0.        , 0.        , 0.        , 0.        , 0.        , 0.        , 0.        , 0.31764707, 0.9411765 , 0.99215686, 0.99215686, 0.46666667, 0.09803922, 0.        , 0.        , 0.        , 0.        , 0.        , 0.        , 0.        , 0.        , 0.        , 0.        , 0.        , 0.        , 0.        , 0.        , 0.        , 0.        , 0.        , 0.        , 0.        , 0.        , 0.        , 0.        , 0.        , 0.1764706 , 0.7294118 , 0.99215686, 0.99215686, 0.5882353 , 0.10588235, 0.        , 0.        , 0.        , 0.        , 0.        , 0.        , 0.        , 0.        , 0.        , 0.        , 0.        , 0.        , 0.        , 0.        , 0.        , 0.        , 0.        , 0.        , 0.        , 0.        , 0.        , 0.        , 0.        , 0.0627451 , 0.3647059 , 0.9882353 , 0.99215686, 0.73333335, 0.        , 0.        , 0.        , 0.        , 0.        , 0.        , 0.        , 0.        , 0.        , 0.        , 0.        , 0.        , 0.        , 0.        , 0.        , 0.        , 0.        , 0.        , 0.        , 0.        , 0.        , 0.        , 0.        , 0.        , 0.        , 0.9764706 , 0.99215686, 0.9764706 , 0.2509804 , 0.        , 0.        , 0.        , 0.        , 0.        , 0.        , 0.        , 0.        , 0.        , 0.        , 0.        , 0.        , 0.        , 0.        , 0.        , 0.        , 0.        , 0.        , 0.        , 0.        , 0.        , 0.18039216, 0.50980395, 0.7176471 , 0.99215686, 0.99215686, 0.8117647 , 0.00784314, 0.        , 0.        , 0.        , 0.        , 0.        , 0.        , 0.        , 0.        , 0.        , 0.        , 0.        , 0.        , 0.        , 0.        , 0.        , 0.        , 0.        , 0.        , 0.        , 0.15294118, 0.5803922 , 0.8980392 , 0.99215686, 0.99215686, 0.99215686, 0.98039216, 0.7137255 , 0.        , 0.        , 0.        , 0.        , 0.        , 0.        , 0.        , 0.        , 0.        , 0.        , 0.        , 0.        , 0.        , 0.        , 0.        , 0.        , 0.        , 0.        , 0.09411765, 0.44705883, 0.8666667 , 0.99215686, 0.99215686, 0.99215686, 0.99215686, 0.7882353 , 0.30588236, 0.        , 0.        , 0.        , 0.        , 0.        , 0.        , 0.        , 0.        , 0.        , 0.        , 0.        , 0.        , 0.        , 0.        , 0.        , 0.        , 0.        , 0.09019608, 0.25882354, 0.8352941 , 0.99215686, 0.99215686, 0.99215686, 0.99215686, 0.7764706 , 0.31764707, 0.00784314, 0.        , 0.        , 0.        , 0.        , 0.        , 0.        , 0.        , 0.        , 0.        , 0.        , 0.        , 0.        , 0.        , 0.        , 0.        , 0.        , 0.07058824, 0.67058825, 0.85882354, 0.99215686, 0.99215686, 0.99215686, 0.99215686, 0.7647059 , 0.3137255 , 0.03529412, 0.        , 0.        , 0.        , 0.        , 0.        , 0.        , 0.        , 0.        , 0.        , 0.        , 0.        , 0.        , 0.        , 0.        , 0.        , 0.        , 0.21568628, 0.6745098 , 0.8862745 , 0.99215686, 0.99215686, 0.99215686, 0.99215686, 0.95686275, 0.52156866, 0.04313726, 0.        , 0.        , 0.        , 0.        , 0.        , 0.        , 0.        , 0.        , 0.        , 0.        , 0.        , 0.        , 0.        , 0.        , 0.        , 0.        , 0.        , 0.        , 0.53333336, 0.99215686, 0.99215686, 0.99215686, 0.83137256, 0.5294118 , 0.5176471 , 0.0627451 , 0.        , 0.        , 0.        , 0.        , 0.        , 0.        , 0.        , 0.        , 0.        , 0.        , 0.        , 0.        , 0.        , 0.        , 0.        , 0.        , 0.        , 0.        , 0.        , 0.        , 0.        , 0.        , 0.        , 0.        , 0.        , 0.        , 0.        , 0.        , 0.        , 0.        , 0.        , 0.        , 0.        , 0.        , 0.        , 0.        , 0.        , 0.        , 0.        , 0.        , 0.        , 0.        , 0.        , 0.        , 0.        , 0.        , 0.        , 0.        , 0.        , 0.        , 0.        , 0.        , 0.        , 0.        , 0.        , 0.        , 0.        , 0.        , 0.        , 0.        , 0.        , 0.        , 0.        , 0.        , 0.        , 0.        , 0.        , 0.        , 0.        , 0.        , 0.        , 0.        , 0.        , 0.        , 0.        , 0.        , 0.        , 0.        , 0.        , 0.        , 0.        , 0.        , 0.        , 0.        , 0.        , 0.        , 0.        , 0.        , 0.        , 0.        , 0.        , 0.        , 0.        , 0.        , 0.        , 0.        , 0.        , 0.        , 0.        , 0.        ], dtype=float32)"
            ]
          },
          "metadata": {},
          "execution_count": 18
        }
      ]
    },
    {
      "cell_type": "code",
      "source": [
        "y_train=to_categorical(y_train, 10)\n",
        "y_test=to_categorical(y_test, 10)"
      ],
      "metadata": {
        "id": "qzZSeGi1v8oA"
      },
      "execution_count": 19,
      "outputs": []
    },
    {
      "cell_type": "code",
      "source": [
        "y_train[0]"
      ],
      "metadata": {
        "colab": {
          "base_uri": "https://localhost:8080/"
        },
        "id": "TN-of1MuwSoP",
        "outputId": "c3f192d9-2bc1-4194-e8c2-7cd1ad534134"
      },
      "execution_count": 20,
      "outputs": [
        {
          "output_type": "execute_result",
          "data": {
            "text/plain": [
              "array([0., 0., 0., 0., 0., 1., 0., 0., 0., 0.], dtype=float32)"
            ]
          },
          "metadata": {},
          "execution_count": 20
        }
      ]
    },
    {
      "cell_type": "code",
      "source": [
        "model=Sequential()\n",
        "model.add(Dense(64, activation='sigmoid', input_shape=(784,)))\n",
        "model.add(Dense(10, activation='softmax'))"
      ],
      "metadata": {
        "id": "Sv5eeBKOxxyF"
      },
      "execution_count": 21,
      "outputs": []
    },
    {
      "cell_type": "code",
      "source": [
        "model.compile(loss='mean_squared_error',\n",
        "       optimizer=optimizers.SGD(learning_rate=0.01),\n",
        "       metrics='accuracy')"
      ],
      "metadata": {
        "id": "VyxRHJWJyXpC"
      },
      "execution_count": 22,
      "outputs": []
    },
    {
      "cell_type": "code",
      "source": [
        "model.fit(X_train, y_train, batch_size=128, epochs=200, verbose=1,\n",
        "     validation_data=(X_test, y_test))"
      ],
      "metadata": {
        "colab": {
          "base_uri": "https://localhost:8080/"
        },
        "id": "lFVkpMsHzn4i",
        "outputId": "26327289-50b5-40b3-93e7-fe8cd0f82c8b"
      },
      "execution_count": 23,
      "outputs": [
        {
          "output_type": "stream",
          "name": "stdout",
          "text": [
            "Epoch 1/200\n",
            "469/469 [==============================] - 3s 4ms/step - loss: 0.0960 - accuracy: 0.0974 - val_loss: 0.0926 - val_accuracy: 0.0982\n",
            "Epoch 2/200\n",
            "469/469 [==============================] - 2s 4ms/step - loss: 0.0918 - accuracy: 0.0980 - val_loss: 0.0911 - val_accuracy: 0.1009\n",
            "Epoch 3/200\n",
            "469/469 [==============================] - 2s 4ms/step - loss: 0.0908 - accuracy: 0.1031 - val_loss: 0.0905 - val_accuracy: 0.1096\n",
            "Epoch 4/200\n",
            "469/469 [==============================] - 2s 4ms/step - loss: 0.0903 - accuracy: 0.1124 - val_loss: 0.0900 - val_accuracy: 0.1228\n",
            "Epoch 5/200\n",
            "469/469 [==============================] - 2s 4ms/step - loss: 0.0899 - accuracy: 0.1273 - val_loss: 0.0897 - val_accuracy: 0.1378\n",
            "Epoch 6/200\n",
            "469/469 [==============================] - 2s 3ms/step - loss: 0.0896 - accuracy: 0.1462 - val_loss: 0.0893 - val_accuracy: 0.1641\n",
            "Epoch 7/200\n",
            "469/469 [==============================] - 2s 3ms/step - loss: 0.0893 - accuracy: 0.1728 - val_loss: 0.0890 - val_accuracy: 0.1965\n",
            "Epoch 8/200\n",
            "469/469 [==============================] - 2s 3ms/step - loss: 0.0890 - accuracy: 0.2054 - val_loss: 0.0888 - val_accuracy: 0.2330\n",
            "Epoch 9/200\n",
            "469/469 [==============================] - 2s 3ms/step - loss: 0.0887 - accuracy: 0.2381 - val_loss: 0.0885 - val_accuracy: 0.2666\n",
            "Epoch 10/200\n",
            "469/469 [==============================] - 2s 4ms/step - loss: 0.0884 - accuracy: 0.2649 - val_loss: 0.0882 - val_accuracy: 0.2902\n",
            "Epoch 11/200\n",
            "469/469 [==============================] - 2s 4ms/step - loss: 0.0881 - accuracy: 0.2844 - val_loss: 0.0879 - val_accuracy: 0.3052\n",
            "Epoch 12/200\n",
            "469/469 [==============================] - 2s 4ms/step - loss: 0.0879 - accuracy: 0.2991 - val_loss: 0.0876 - val_accuracy: 0.3139\n",
            "Epoch 13/200\n",
            "469/469 [==============================] - 2s 3ms/step - loss: 0.0876 - accuracy: 0.3106 - val_loss: 0.0873 - val_accuracy: 0.3218\n",
            "Epoch 14/200\n",
            "469/469 [==============================] - 2s 4ms/step - loss: 0.0873 - accuracy: 0.3200 - val_loss: 0.0870 - val_accuracy: 0.3276\n",
            "Epoch 15/200\n",
            "469/469 [==============================] - 2s 4ms/step - loss: 0.0870 - accuracy: 0.3277 - val_loss: 0.0867 - val_accuracy: 0.3377\n",
            "Epoch 16/200\n",
            "469/469 [==============================] - 2s 4ms/step - loss: 0.0867 - accuracy: 0.3390 - val_loss: 0.0864 - val_accuracy: 0.3520\n",
            "Epoch 17/200\n",
            "469/469 [==============================] - 2s 4ms/step - loss: 0.0864 - accuracy: 0.3557 - val_loss: 0.0861 - val_accuracy: 0.3712\n",
            "Epoch 18/200\n",
            "469/469 [==============================] - 2s 4ms/step - loss: 0.0860 - accuracy: 0.3762 - val_loss: 0.0858 - val_accuracy: 0.3891\n",
            "Epoch 19/200\n",
            "469/469 [==============================] - 2s 4ms/step - loss: 0.0857 - accuracy: 0.3951 - val_loss: 0.0854 - val_accuracy: 0.4010\n",
            "Epoch 20/200\n",
            "469/469 [==============================] - 2s 4ms/step - loss: 0.0854 - accuracy: 0.4071 - val_loss: 0.0851 - val_accuracy: 0.4111\n",
            "Epoch 21/200\n",
            "469/469 [==============================] - 2s 4ms/step - loss: 0.0850 - accuracy: 0.4145 - val_loss: 0.0847 - val_accuracy: 0.4174\n",
            "Epoch 22/200\n",
            "469/469 [==============================] - 2s 4ms/step - loss: 0.0846 - accuracy: 0.4198 - val_loss: 0.0843 - val_accuracy: 0.4204\n",
            "Epoch 23/200\n",
            "469/469 [==============================] - 2s 4ms/step - loss: 0.0843 - accuracy: 0.4207 - val_loss: 0.0840 - val_accuracy: 0.4220\n",
            "Epoch 24/200\n",
            "469/469 [==============================] - 2s 4ms/step - loss: 0.0839 - accuracy: 0.4222 - val_loss: 0.0836 - val_accuracy: 0.4228\n",
            "Epoch 25/200\n",
            "469/469 [==============================] - 2s 4ms/step - loss: 0.0835 - accuracy: 0.4241 - val_loss: 0.0832 - val_accuracy: 0.4222\n",
            "Epoch 26/200\n",
            "469/469 [==============================] - 2s 4ms/step - loss: 0.0831 - accuracy: 0.4250 - val_loss: 0.0828 - val_accuracy: 0.4229\n",
            "Epoch 27/200\n",
            "469/469 [==============================] - 2s 4ms/step - loss: 0.0827 - accuracy: 0.4260 - val_loss: 0.0823 - val_accuracy: 0.4236\n",
            "Epoch 28/200\n",
            "469/469 [==============================] - 2s 4ms/step - loss: 0.0823 - accuracy: 0.4266 - val_loss: 0.0819 - val_accuracy: 0.4240\n",
            "Epoch 29/200\n",
            "469/469 [==============================] - 2s 4ms/step - loss: 0.0818 - accuracy: 0.4267 - val_loss: 0.0815 - val_accuracy: 0.4264\n",
            "Epoch 30/200\n",
            "469/469 [==============================] - 2s 4ms/step - loss: 0.0814 - accuracy: 0.4280 - val_loss: 0.0810 - val_accuracy: 0.4281\n",
            "Epoch 31/200\n",
            "469/469 [==============================] - 2s 4ms/step - loss: 0.0809 - accuracy: 0.4295 - val_loss: 0.0805 - val_accuracy: 0.4293\n",
            "Epoch 32/200\n",
            "469/469 [==============================] - 2s 4ms/step - loss: 0.0805 - accuracy: 0.4303 - val_loss: 0.0801 - val_accuracy: 0.4304\n",
            "Epoch 33/200\n",
            "469/469 [==============================] - 2s 4ms/step - loss: 0.0800 - accuracy: 0.4322 - val_loss: 0.0796 - val_accuracy: 0.4326\n",
            "Epoch 34/200\n",
            "469/469 [==============================] - 2s 4ms/step - loss: 0.0795 - accuracy: 0.4346 - val_loss: 0.0791 - val_accuracy: 0.4343\n",
            "Epoch 35/200\n",
            "469/469 [==============================] - 2s 4ms/step - loss: 0.0791 - accuracy: 0.4376 - val_loss: 0.0786 - val_accuracy: 0.4364\n",
            "Epoch 36/200\n",
            "469/469 [==============================] - 2s 4ms/step - loss: 0.0786 - accuracy: 0.4405 - val_loss: 0.0781 - val_accuracy: 0.4381\n",
            "Epoch 37/200\n",
            "469/469 [==============================] - 2s 4ms/step - loss: 0.0781 - accuracy: 0.4425 - val_loss: 0.0776 - val_accuracy: 0.4417\n",
            "Epoch 38/200\n",
            "469/469 [==============================] - 2s 4ms/step - loss: 0.0776 - accuracy: 0.4459 - val_loss: 0.0771 - val_accuracy: 0.4445\n",
            "Epoch 39/200\n",
            "469/469 [==============================] - 2s 4ms/step - loss: 0.0771 - accuracy: 0.4493 - val_loss: 0.0766 - val_accuracy: 0.4481\n",
            "Epoch 40/200\n",
            "469/469 [==============================] - 2s 4ms/step - loss: 0.0766 - accuracy: 0.4531 - val_loss: 0.0761 - val_accuracy: 0.4517\n",
            "Epoch 41/200\n",
            "469/469 [==============================] - 2s 4ms/step - loss: 0.0761 - accuracy: 0.4567 - val_loss: 0.0756 - val_accuracy: 0.4563\n",
            "Epoch 42/200\n",
            "469/469 [==============================] - 2s 5ms/step - loss: 0.0756 - accuracy: 0.4617 - val_loss: 0.0751 - val_accuracy: 0.4611\n",
            "Epoch 43/200\n",
            "469/469 [==============================] - 2s 5ms/step - loss: 0.0751 - accuracy: 0.4662 - val_loss: 0.0746 - val_accuracy: 0.4676\n",
            "Epoch 44/200\n",
            "469/469 [==============================] - 2s 4ms/step - loss: 0.0745 - accuracy: 0.4710 - val_loss: 0.0740 - val_accuracy: 0.4733\n",
            "Epoch 45/200\n",
            "469/469 [==============================] - 2s 4ms/step - loss: 0.0740 - accuracy: 0.4766 - val_loss: 0.0735 - val_accuracy: 0.4794\n",
            "Epoch 46/200\n",
            "469/469 [==============================] - 2s 4ms/step - loss: 0.0735 - accuracy: 0.4820 - val_loss: 0.0730 - val_accuracy: 0.4851\n",
            "Epoch 47/200\n",
            "469/469 [==============================] - 2s 4ms/step - loss: 0.0730 - accuracy: 0.4873 - val_loss: 0.0725 - val_accuracy: 0.4911\n",
            "Epoch 48/200\n",
            "469/469 [==============================] - 2s 4ms/step - loss: 0.0725 - accuracy: 0.4926 - val_loss: 0.0720 - val_accuracy: 0.4965\n",
            "Epoch 49/200\n",
            "469/469 [==============================] - 2s 4ms/step - loss: 0.0720 - accuracy: 0.4984 - val_loss: 0.0714 - val_accuracy: 0.5029\n",
            "Epoch 50/200\n",
            "469/469 [==============================] - 2s 4ms/step - loss: 0.0715 - accuracy: 0.5042 - val_loss: 0.0709 - val_accuracy: 0.5106\n",
            "Epoch 51/200\n",
            "469/469 [==============================] - 2s 4ms/step - loss: 0.0709 - accuracy: 0.5099 - val_loss: 0.0704 - val_accuracy: 0.5181\n",
            "Epoch 52/200\n",
            "469/469 [==============================] - 2s 4ms/step - loss: 0.0704 - accuracy: 0.5160 - val_loss: 0.0699 - val_accuracy: 0.5248\n",
            "Epoch 53/200\n",
            "469/469 [==============================] - 2s 4ms/step - loss: 0.0699 - accuracy: 0.5224 - val_loss: 0.0694 - val_accuracy: 0.5307\n",
            "Epoch 54/200\n",
            "469/469 [==============================] - 2s 4ms/step - loss: 0.0694 - accuracy: 0.5280 - val_loss: 0.0689 - val_accuracy: 0.5380\n",
            "Epoch 55/200\n",
            "469/469 [==============================] - 2s 4ms/step - loss: 0.0689 - accuracy: 0.5337 - val_loss: 0.0683 - val_accuracy: 0.5448\n",
            "Epoch 56/200\n",
            "469/469 [==============================] - 2s 4ms/step - loss: 0.0684 - accuracy: 0.5407 - val_loss: 0.0678 - val_accuracy: 0.5516\n",
            "Epoch 57/200\n",
            "469/469 [==============================] - 2s 4ms/step - loss: 0.0679 - accuracy: 0.5475 - val_loss: 0.0673 - val_accuracy: 0.5575\n",
            "Epoch 58/200\n",
            "469/469 [==============================] - 2s 4ms/step - loss: 0.0674 - accuracy: 0.5538 - val_loss: 0.0668 - val_accuracy: 0.5632\n",
            "Epoch 59/200\n",
            "469/469 [==============================] - 2s 4ms/step - loss: 0.0669 - accuracy: 0.5602 - val_loss: 0.0663 - val_accuracy: 0.5714\n",
            "Epoch 60/200\n",
            "469/469 [==============================] - 2s 5ms/step - loss: 0.0664 - accuracy: 0.5657 - val_loss: 0.0658 - val_accuracy: 0.5781\n",
            "Epoch 61/200\n",
            "469/469 [==============================] - 2s 4ms/step - loss: 0.0659 - accuracy: 0.5725 - val_loss: 0.0653 - val_accuracy: 0.5843\n",
            "Epoch 62/200\n",
            "469/469 [==============================] - 2s 4ms/step - loss: 0.0654 - accuracy: 0.5791 - val_loss: 0.0648 - val_accuracy: 0.5912\n",
            "Epoch 63/200\n",
            "469/469 [==============================] - 2s 4ms/step - loss: 0.0650 - accuracy: 0.5860 - val_loss: 0.0643 - val_accuracy: 0.5978\n",
            "Epoch 64/200\n",
            "469/469 [==============================] - 2s 4ms/step - loss: 0.0645 - accuracy: 0.5925 - val_loss: 0.0639 - val_accuracy: 0.6052\n",
            "Epoch 65/200\n",
            "469/469 [==============================] - 2s 4ms/step - loss: 0.0640 - accuracy: 0.5988 - val_loss: 0.0634 - val_accuracy: 0.6107\n",
            "Epoch 66/200\n",
            "469/469 [==============================] - 2s 4ms/step - loss: 0.0635 - accuracy: 0.6048 - val_loss: 0.0629 - val_accuracy: 0.6177\n",
            "Epoch 67/200\n",
            "469/469 [==============================] - 2s 4ms/step - loss: 0.0631 - accuracy: 0.6112 - val_loss: 0.0624 - val_accuracy: 0.6251\n",
            "Epoch 68/200\n",
            "469/469 [==============================] - 2s 4ms/step - loss: 0.0626 - accuracy: 0.6172 - val_loss: 0.0619 - val_accuracy: 0.6318\n",
            "Epoch 69/200\n",
            "469/469 [==============================] - 2s 4ms/step - loss: 0.0621 - accuracy: 0.6239 - val_loss: 0.0615 - val_accuracy: 0.6375\n",
            "Epoch 70/200\n",
            "469/469 [==============================] - 2s 4ms/step - loss: 0.0617 - accuracy: 0.6296 - val_loss: 0.0610 - val_accuracy: 0.6435\n",
            "Epoch 71/200\n",
            "469/469 [==============================] - 2s 4ms/step - loss: 0.0612 - accuracy: 0.6343 - val_loss: 0.0605 - val_accuracy: 0.6487\n",
            "Epoch 72/200\n",
            "469/469 [==============================] - 2s 4ms/step - loss: 0.0607 - accuracy: 0.6402 - val_loss: 0.0601 - val_accuracy: 0.6539\n",
            "Epoch 73/200\n",
            "469/469 [==============================] - 2s 4ms/step - loss: 0.0603 - accuracy: 0.6455 - val_loss: 0.0596 - val_accuracy: 0.6582\n",
            "Epoch 74/200\n",
            "469/469 [==============================] - 2s 4ms/step - loss: 0.0598 - accuracy: 0.6506 - val_loss: 0.0591 - val_accuracy: 0.6628\n",
            "Epoch 75/200\n",
            "469/469 [==============================] - 2s 4ms/step - loss: 0.0594 - accuracy: 0.6550 - val_loss: 0.0587 - val_accuracy: 0.6682\n",
            "Epoch 76/200\n",
            "469/469 [==============================] - 2s 5ms/step - loss: 0.0589 - accuracy: 0.6602 - val_loss: 0.0582 - val_accuracy: 0.6718\n",
            "Epoch 77/200\n",
            "469/469 [==============================] - 2s 4ms/step - loss: 0.0585 - accuracy: 0.6647 - val_loss: 0.0578 - val_accuracy: 0.6768\n",
            "Epoch 78/200\n",
            "469/469 [==============================] - 2s 4ms/step - loss: 0.0581 - accuracy: 0.6688 - val_loss: 0.0573 - val_accuracy: 0.6804\n",
            "Epoch 79/200\n",
            "469/469 [==============================] - 2s 4ms/step - loss: 0.0576 - accuracy: 0.6738 - val_loss: 0.0569 - val_accuracy: 0.6854\n",
            "Epoch 80/200\n",
            "469/469 [==============================] - 2s 4ms/step - loss: 0.0572 - accuracy: 0.6780 - val_loss: 0.0565 - val_accuracy: 0.6890\n",
            "Epoch 81/200\n",
            "469/469 [==============================] - 2s 4ms/step - loss: 0.0568 - accuracy: 0.6820 - val_loss: 0.0560 - val_accuracy: 0.6925\n",
            "Epoch 82/200\n",
            "469/469 [==============================] - 2s 4ms/step - loss: 0.0563 - accuracy: 0.6857 - val_loss: 0.0556 - val_accuracy: 0.6967\n",
            "Epoch 83/200\n",
            "469/469 [==============================] - 2s 4ms/step - loss: 0.0559 - accuracy: 0.6895 - val_loss: 0.0552 - val_accuracy: 0.7012\n",
            "Epoch 84/200\n",
            "469/469 [==============================] - 2s 4ms/step - loss: 0.0555 - accuracy: 0.6931 - val_loss: 0.0547 - val_accuracy: 0.7054\n",
            "Epoch 85/200\n",
            "469/469 [==============================] - 2s 4ms/step - loss: 0.0551 - accuracy: 0.6964 - val_loss: 0.0543 - val_accuracy: 0.7082\n",
            "Epoch 86/200\n",
            "469/469 [==============================] - 2s 4ms/step - loss: 0.0547 - accuracy: 0.6996 - val_loss: 0.0539 - val_accuracy: 0.7111\n",
            "Epoch 87/200\n",
            "469/469 [==============================] - 2s 4ms/step - loss: 0.0543 - accuracy: 0.7024 - val_loss: 0.0535 - val_accuracy: 0.7135\n",
            "Epoch 88/200\n",
            "469/469 [==============================] - 2s 4ms/step - loss: 0.0539 - accuracy: 0.7054 - val_loss: 0.0531 - val_accuracy: 0.7176\n",
            "Epoch 89/200\n",
            "469/469 [==============================] - 2s 4ms/step - loss: 0.0535 - accuracy: 0.7080 - val_loss: 0.0527 - val_accuracy: 0.7207\n",
            "Epoch 90/200\n",
            "469/469 [==============================] - 2s 4ms/step - loss: 0.0531 - accuracy: 0.7104 - val_loss: 0.0523 - val_accuracy: 0.7235\n",
            "Epoch 91/200\n",
            "469/469 [==============================] - 2s 4ms/step - loss: 0.0527 - accuracy: 0.7136 - val_loss: 0.0519 - val_accuracy: 0.7257\n",
            "Epoch 92/200\n",
            "469/469 [==============================] - 2s 4ms/step - loss: 0.0523 - accuracy: 0.7159 - val_loss: 0.0515 - val_accuracy: 0.7278\n",
            "Epoch 93/200\n",
            "469/469 [==============================] - 2s 4ms/step - loss: 0.0519 - accuracy: 0.7186 - val_loss: 0.0511 - val_accuracy: 0.7305\n",
            "Epoch 94/200\n",
            "469/469 [==============================] - 2s 4ms/step - loss: 0.0515 - accuracy: 0.7213 - val_loss: 0.0507 - val_accuracy: 0.7341\n",
            "Epoch 95/200\n",
            "469/469 [==============================] - 2s 4ms/step - loss: 0.0511 - accuracy: 0.7235 - val_loss: 0.0503 - val_accuracy: 0.7367\n",
            "Epoch 96/200\n",
            "469/469 [==============================] - 2s 4ms/step - loss: 0.0508 - accuracy: 0.7258 - val_loss: 0.0499 - val_accuracy: 0.7388\n",
            "Epoch 97/200\n",
            "469/469 [==============================] - 2s 4ms/step - loss: 0.0504 - accuracy: 0.7285 - val_loss: 0.0496 - val_accuracy: 0.7414\n",
            "Epoch 98/200\n",
            "469/469 [==============================] - 2s 4ms/step - loss: 0.0500 - accuracy: 0.7307 - val_loss: 0.0492 - val_accuracy: 0.7425\n",
            "Epoch 99/200\n",
            "469/469 [==============================] - 2s 4ms/step - loss: 0.0497 - accuracy: 0.7332 - val_loss: 0.0488 - val_accuracy: 0.7444\n",
            "Epoch 100/200\n",
            "469/469 [==============================] - 2s 4ms/step - loss: 0.0493 - accuracy: 0.7350 - val_loss: 0.0485 - val_accuracy: 0.7467\n",
            "Epoch 101/200\n",
            "469/469 [==============================] - 2s 4ms/step - loss: 0.0490 - accuracy: 0.7372 - val_loss: 0.0481 - val_accuracy: 0.7484\n",
            "Epoch 102/200\n",
            "469/469 [==============================] - 2s 4ms/step - loss: 0.0486 - accuracy: 0.7391 - val_loss: 0.0478 - val_accuracy: 0.7509\n",
            "Epoch 103/200\n",
            "469/469 [==============================] - 2s 4ms/step - loss: 0.0483 - accuracy: 0.7411 - val_loss: 0.0474 - val_accuracy: 0.7520\n",
            "Epoch 104/200\n",
            "469/469 [==============================] - 2s 4ms/step - loss: 0.0479 - accuracy: 0.7429 - val_loss: 0.0471 - val_accuracy: 0.7534\n",
            "Epoch 105/200\n",
            "469/469 [==============================] - 2s 4ms/step - loss: 0.0476 - accuracy: 0.7453 - val_loss: 0.0467 - val_accuracy: 0.7558\n",
            "Epoch 106/200\n",
            "469/469 [==============================] - 2s 4ms/step - loss: 0.0473 - accuracy: 0.7468 - val_loss: 0.0464 - val_accuracy: 0.7580\n",
            "Epoch 107/200\n",
            "469/469 [==============================] - 2s 4ms/step - loss: 0.0469 - accuracy: 0.7484 - val_loss: 0.0461 - val_accuracy: 0.7602\n",
            "Epoch 108/200\n",
            "469/469 [==============================] - 2s 4ms/step - loss: 0.0466 - accuracy: 0.7503 - val_loss: 0.0457 - val_accuracy: 0.7624\n",
            "Epoch 109/200\n",
            "469/469 [==============================] - 2s 3ms/step - loss: 0.0463 - accuracy: 0.7515 - val_loss: 0.0454 - val_accuracy: 0.7636\n",
            "Epoch 110/200\n",
            "469/469 [==============================] - 2s 4ms/step - loss: 0.0460 - accuracy: 0.7529 - val_loss: 0.0451 - val_accuracy: 0.7658\n",
            "Epoch 111/200\n",
            "469/469 [==============================] - 2s 4ms/step - loss: 0.0456 - accuracy: 0.7542 - val_loss: 0.0448 - val_accuracy: 0.7671\n",
            "Epoch 112/200\n",
            "469/469 [==============================] - 2s 4ms/step - loss: 0.0453 - accuracy: 0.7558 - val_loss: 0.0444 - val_accuracy: 0.7677\n",
            "Epoch 113/200\n",
            "469/469 [==============================] - 2s 4ms/step - loss: 0.0450 - accuracy: 0.7574 - val_loss: 0.0441 - val_accuracy: 0.7695\n",
            "Epoch 114/200\n",
            "469/469 [==============================] - 2s 4ms/step - loss: 0.0447 - accuracy: 0.7590 - val_loss: 0.0438 - val_accuracy: 0.7706\n",
            "Epoch 115/200\n",
            "469/469 [==============================] - 2s 4ms/step - loss: 0.0444 - accuracy: 0.7601 - val_loss: 0.0435 - val_accuracy: 0.7725\n",
            "Epoch 116/200\n",
            "469/469 [==============================] - 2s 4ms/step - loss: 0.0441 - accuracy: 0.7617 - val_loss: 0.0432 - val_accuracy: 0.7736\n",
            "Epoch 117/200\n",
            "469/469 [==============================] - 2s 3ms/step - loss: 0.0438 - accuracy: 0.7634 - val_loss: 0.0429 - val_accuracy: 0.7749\n",
            "Epoch 118/200\n",
            "469/469 [==============================] - 2s 4ms/step - loss: 0.0435 - accuracy: 0.7649 - val_loss: 0.0426 - val_accuracy: 0.7762\n",
            "Epoch 119/200\n",
            "469/469 [==============================] - 2s 3ms/step - loss: 0.0432 - accuracy: 0.7664 - val_loss: 0.0423 - val_accuracy: 0.7775\n",
            "Epoch 120/200\n",
            "469/469 [==============================] - 2s 4ms/step - loss: 0.0429 - accuracy: 0.7681 - val_loss: 0.0420 - val_accuracy: 0.7786\n",
            "Epoch 121/200\n",
            "469/469 [==============================] - 2s 3ms/step - loss: 0.0427 - accuracy: 0.7694 - val_loss: 0.0418 - val_accuracy: 0.7800\n",
            "Epoch 122/200\n",
            "469/469 [==============================] - 2s 4ms/step - loss: 0.0424 - accuracy: 0.7710 - val_loss: 0.0415 - val_accuracy: 0.7814\n",
            "Epoch 123/200\n",
            "469/469 [==============================] - 2s 4ms/step - loss: 0.0421 - accuracy: 0.7724 - val_loss: 0.0412 - val_accuracy: 0.7835\n",
            "Epoch 124/200\n",
            "469/469 [==============================] - 2s 4ms/step - loss: 0.0418 - accuracy: 0.7742 - val_loss: 0.0409 - val_accuracy: 0.7853\n",
            "Epoch 125/200\n",
            "469/469 [==============================] - 2s 4ms/step - loss: 0.0416 - accuracy: 0.7761 - val_loss: 0.0406 - val_accuracy: 0.7872\n",
            "Epoch 126/200\n",
            "469/469 [==============================] - 2s 4ms/step - loss: 0.0413 - accuracy: 0.7776 - val_loss: 0.0404 - val_accuracy: 0.7889\n",
            "Epoch 127/200\n",
            "469/469 [==============================] - 2s 4ms/step - loss: 0.0410 - accuracy: 0.7792 - val_loss: 0.0401 - val_accuracy: 0.7908\n",
            "Epoch 128/200\n",
            "469/469 [==============================] - 2s 4ms/step - loss: 0.0408 - accuracy: 0.7808 - val_loss: 0.0398 - val_accuracy: 0.7931\n",
            "Epoch 129/200\n",
            "469/469 [==============================] - 2s 4ms/step - loss: 0.0405 - accuracy: 0.7828 - val_loss: 0.0396 - val_accuracy: 0.7944\n",
            "Epoch 130/200\n",
            "469/469 [==============================] - 2s 4ms/step - loss: 0.0403 - accuracy: 0.7846 - val_loss: 0.0393 - val_accuracy: 0.7955\n",
            "Epoch 131/200\n",
            "469/469 [==============================] - 2s 4ms/step - loss: 0.0400 - accuracy: 0.7861 - val_loss: 0.0391 - val_accuracy: 0.7972\n",
            "Epoch 132/200\n",
            "469/469 [==============================] - 2s 4ms/step - loss: 0.0398 - accuracy: 0.7879 - val_loss: 0.0388 - val_accuracy: 0.7982\n",
            "Epoch 133/200\n",
            "469/469 [==============================] - 2s 4ms/step - loss: 0.0395 - accuracy: 0.7900 - val_loss: 0.0386 - val_accuracy: 0.8003\n",
            "Epoch 134/200\n",
            "469/469 [==============================] - 2s 4ms/step - loss: 0.0393 - accuracy: 0.7918 - val_loss: 0.0383 - val_accuracy: 0.8021\n",
            "Epoch 135/200\n",
            "469/469 [==============================] - 2s 4ms/step - loss: 0.0390 - accuracy: 0.7934 - val_loss: 0.0381 - val_accuracy: 0.8031\n",
            "Epoch 136/200\n",
            "469/469 [==============================] - 2s 4ms/step - loss: 0.0388 - accuracy: 0.7950 - val_loss: 0.0378 - val_accuracy: 0.8050\n",
            "Epoch 137/200\n",
            "469/469 [==============================] - 2s 4ms/step - loss: 0.0385 - accuracy: 0.7968 - val_loss: 0.0376 - val_accuracy: 0.8064\n",
            "Epoch 138/200\n",
            "469/469 [==============================] - 2s 4ms/step - loss: 0.0383 - accuracy: 0.7986 - val_loss: 0.0373 - val_accuracy: 0.8078\n",
            "Epoch 139/200\n",
            "469/469 [==============================] - 2s 3ms/step - loss: 0.0381 - accuracy: 0.8005 - val_loss: 0.0371 - val_accuracy: 0.8090\n",
            "Epoch 140/200\n",
            "469/469 [==============================] - 2s 4ms/step - loss: 0.0379 - accuracy: 0.8022 - val_loss: 0.0369 - val_accuracy: 0.8106\n",
            "Epoch 141/200\n",
            "469/469 [==============================] - 2s 4ms/step - loss: 0.0376 - accuracy: 0.8040 - val_loss: 0.0366 - val_accuracy: 0.8124\n",
            "Epoch 142/200\n",
            "469/469 [==============================] - 2s 4ms/step - loss: 0.0374 - accuracy: 0.8057 - val_loss: 0.0364 - val_accuracy: 0.8142\n",
            "Epoch 143/200\n",
            "469/469 [==============================] - 2s 4ms/step - loss: 0.0372 - accuracy: 0.8072 - val_loss: 0.0362 - val_accuracy: 0.8162\n",
            "Epoch 144/200\n",
            "469/469 [==============================] - 2s 4ms/step - loss: 0.0370 - accuracy: 0.8084 - val_loss: 0.0360 - val_accuracy: 0.8180\n",
            "Epoch 145/200\n",
            "469/469 [==============================] - 2s 4ms/step - loss: 0.0367 - accuracy: 0.8103 - val_loss: 0.0358 - val_accuracy: 0.8196\n",
            "Epoch 146/200\n",
            "469/469 [==============================] - 2s 3ms/step - loss: 0.0365 - accuracy: 0.8116 - val_loss: 0.0355 - val_accuracy: 0.8210\n",
            "Epoch 147/200\n",
            "469/469 [==============================] - 2s 4ms/step - loss: 0.0363 - accuracy: 0.8128 - val_loss: 0.0353 - val_accuracy: 0.8221\n",
            "Epoch 148/200\n",
            "469/469 [==============================] - 2s 4ms/step - loss: 0.0361 - accuracy: 0.8145 - val_loss: 0.0351 - val_accuracy: 0.8238\n",
            "Epoch 149/200\n",
            "469/469 [==============================] - 2s 4ms/step - loss: 0.0359 - accuracy: 0.8157 - val_loss: 0.0349 - val_accuracy: 0.8251\n",
            "Epoch 150/200\n",
            "469/469 [==============================] - 2s 4ms/step - loss: 0.0357 - accuracy: 0.8174 - val_loss: 0.0347 - val_accuracy: 0.8267\n",
            "Epoch 151/200\n",
            "469/469 [==============================] - 2s 3ms/step - loss: 0.0355 - accuracy: 0.8188 - val_loss: 0.0345 - val_accuracy: 0.8282\n",
            "Epoch 152/200\n",
            "469/469 [==============================] - 2s 4ms/step - loss: 0.0353 - accuracy: 0.8200 - val_loss: 0.0343 - val_accuracy: 0.8295\n",
            "Epoch 153/200\n",
            "469/469 [==============================] - 2s 4ms/step - loss: 0.0351 - accuracy: 0.8210 - val_loss: 0.0341 - val_accuracy: 0.8306\n",
            "Epoch 154/200\n",
            "469/469 [==============================] - 2s 4ms/step - loss: 0.0349 - accuracy: 0.8223 - val_loss: 0.0339 - val_accuracy: 0.8325\n",
            "Epoch 155/200\n",
            "469/469 [==============================] - 2s 3ms/step - loss: 0.0347 - accuracy: 0.8234 - val_loss: 0.0337 - val_accuracy: 0.8335\n",
            "Epoch 156/200\n",
            "469/469 [==============================] - 2s 4ms/step - loss: 0.0345 - accuracy: 0.8245 - val_loss: 0.0335 - val_accuracy: 0.8350\n",
            "Epoch 157/200\n",
            "469/469 [==============================] - 2s 4ms/step - loss: 0.0343 - accuracy: 0.8254 - val_loss: 0.0333 - val_accuracy: 0.8362\n",
            "Epoch 158/200\n",
            "469/469 [==============================] - 2s 4ms/step - loss: 0.0341 - accuracy: 0.8267 - val_loss: 0.0331 - val_accuracy: 0.8367\n",
            "Epoch 159/200\n",
            "469/469 [==============================] - 2s 4ms/step - loss: 0.0339 - accuracy: 0.8278 - val_loss: 0.0329 - val_accuracy: 0.8378\n",
            "Epoch 160/200\n",
            "469/469 [==============================] - 2s 4ms/step - loss: 0.0338 - accuracy: 0.8290 - val_loss: 0.0327 - val_accuracy: 0.8387\n",
            "Epoch 161/200\n",
            "469/469 [==============================] - 2s 4ms/step - loss: 0.0336 - accuracy: 0.8297 - val_loss: 0.0326 - val_accuracy: 0.8396\n",
            "Epoch 162/200\n",
            "469/469 [==============================] - 2s 4ms/step - loss: 0.0334 - accuracy: 0.8305 - val_loss: 0.0324 - val_accuracy: 0.8402\n",
            "Epoch 163/200\n",
            "469/469 [==============================] - 2s 4ms/step - loss: 0.0332 - accuracy: 0.8312 - val_loss: 0.0322 - val_accuracy: 0.8409\n",
            "Epoch 164/200\n",
            "469/469 [==============================] - 2s 4ms/step - loss: 0.0331 - accuracy: 0.8321 - val_loss: 0.0320 - val_accuracy: 0.8417\n",
            "Epoch 165/200\n",
            "469/469 [==============================] - 2s 4ms/step - loss: 0.0329 - accuracy: 0.8332 - val_loss: 0.0319 - val_accuracy: 0.8426\n",
            "Epoch 166/200\n",
            "469/469 [==============================] - 2s 4ms/step - loss: 0.0327 - accuracy: 0.8341 - val_loss: 0.0317 - val_accuracy: 0.8436\n",
            "Epoch 167/200\n",
            "469/469 [==============================] - 2s 4ms/step - loss: 0.0325 - accuracy: 0.8349 - val_loss: 0.0315 - val_accuracy: 0.8442\n",
            "Epoch 168/200\n",
            "469/469 [==============================] - 2s 4ms/step - loss: 0.0324 - accuracy: 0.8360 - val_loss: 0.0314 - val_accuracy: 0.8451\n",
            "Epoch 169/200\n",
            "469/469 [==============================] - 2s 4ms/step - loss: 0.0322 - accuracy: 0.8370 - val_loss: 0.0312 - val_accuracy: 0.8464\n",
            "Epoch 170/200\n",
            "469/469 [==============================] - 2s 4ms/step - loss: 0.0320 - accuracy: 0.8381 - val_loss: 0.0310 - val_accuracy: 0.8471\n",
            "Epoch 171/200\n",
            "469/469 [==============================] - 2s 4ms/step - loss: 0.0319 - accuracy: 0.8389 - val_loss: 0.0309 - val_accuracy: 0.8478\n",
            "Epoch 172/200\n",
            "469/469 [==============================] - 2s 4ms/step - loss: 0.0317 - accuracy: 0.8398 - val_loss: 0.0307 - val_accuracy: 0.8486\n",
            "Epoch 173/200\n",
            "469/469 [==============================] - 2s 4ms/step - loss: 0.0316 - accuracy: 0.8408 - val_loss: 0.0305 - val_accuracy: 0.8492\n",
            "Epoch 174/200\n",
            "469/469 [==============================] - 2s 4ms/step - loss: 0.0314 - accuracy: 0.8417 - val_loss: 0.0304 - val_accuracy: 0.8498\n",
            "Epoch 175/200\n",
            "469/469 [==============================] - 2s 4ms/step - loss: 0.0313 - accuracy: 0.8424 - val_loss: 0.0302 - val_accuracy: 0.8509\n",
            "Epoch 176/200\n",
            "469/469 [==============================] - 2s 4ms/step - loss: 0.0311 - accuracy: 0.8433 - val_loss: 0.0301 - val_accuracy: 0.8516\n",
            "Epoch 177/200\n",
            "469/469 [==============================] - 2s 4ms/step - loss: 0.0310 - accuracy: 0.8441 - val_loss: 0.0299 - val_accuracy: 0.8521\n",
            "Epoch 178/200\n",
            "469/469 [==============================] - 2s 4ms/step - loss: 0.0308 - accuracy: 0.8450 - val_loss: 0.0298 - val_accuracy: 0.8526\n",
            "Epoch 179/200\n",
            "469/469 [==============================] - 2s 4ms/step - loss: 0.0307 - accuracy: 0.8453 - val_loss: 0.0296 - val_accuracy: 0.8535\n",
            "Epoch 180/200\n",
            "469/469 [==============================] - 2s 4ms/step - loss: 0.0305 - accuracy: 0.8462 - val_loss: 0.0295 - val_accuracy: 0.8541\n",
            "Epoch 181/200\n",
            "469/469 [==============================] - 2s 4ms/step - loss: 0.0304 - accuracy: 0.8467 - val_loss: 0.0294 - val_accuracy: 0.8544\n",
            "Epoch 182/200\n",
            "469/469 [==============================] - 2s 4ms/step - loss: 0.0303 - accuracy: 0.8473 - val_loss: 0.0292 - val_accuracy: 0.8553\n",
            "Epoch 183/200\n",
            "469/469 [==============================] - 2s 4ms/step - loss: 0.0301 - accuracy: 0.8481 - val_loss: 0.0291 - val_accuracy: 0.8559\n",
            "Epoch 184/200\n",
            "469/469 [==============================] - 2s 4ms/step - loss: 0.0300 - accuracy: 0.8488 - val_loss: 0.0289 - val_accuracy: 0.8562\n",
            "Epoch 185/200\n",
            "469/469 [==============================] - 2s 4ms/step - loss: 0.0298 - accuracy: 0.8493 - val_loss: 0.0288 - val_accuracy: 0.8573\n",
            "Epoch 186/200\n",
            "469/469 [==============================] - 2s 4ms/step - loss: 0.0297 - accuracy: 0.8499 - val_loss: 0.0287 - val_accuracy: 0.8578\n",
            "Epoch 187/200\n",
            "469/469 [==============================] - 2s 4ms/step - loss: 0.0296 - accuracy: 0.8505 - val_loss: 0.0285 - val_accuracy: 0.8588\n",
            "Epoch 188/200\n",
            "469/469 [==============================] - 2s 4ms/step - loss: 0.0294 - accuracy: 0.8511 - val_loss: 0.0284 - val_accuracy: 0.8591\n",
            "Epoch 189/200\n",
            "469/469 [==============================] - 2s 4ms/step - loss: 0.0293 - accuracy: 0.8516 - val_loss: 0.0283 - val_accuracy: 0.8599\n",
            "Epoch 190/200\n",
            "469/469 [==============================] - 2s 4ms/step - loss: 0.0292 - accuracy: 0.8521 - val_loss: 0.0282 - val_accuracy: 0.8610\n",
            "Epoch 191/200\n",
            "469/469 [==============================] - 2s 4ms/step - loss: 0.0291 - accuracy: 0.8526 - val_loss: 0.0280 - val_accuracy: 0.8615\n",
            "Epoch 192/200\n",
            "469/469 [==============================] - 2s 3ms/step - loss: 0.0289 - accuracy: 0.8532 - val_loss: 0.0279 - val_accuracy: 0.8617\n",
            "Epoch 193/200\n",
            "469/469 [==============================] - 2s 4ms/step - loss: 0.0288 - accuracy: 0.8533 - val_loss: 0.0278 - val_accuracy: 0.8621\n",
            "Epoch 194/200\n",
            "469/469 [==============================] - 2s 4ms/step - loss: 0.0287 - accuracy: 0.8538 - val_loss: 0.0277 - val_accuracy: 0.8626\n",
            "Epoch 195/200\n",
            "469/469 [==============================] - 2s 4ms/step - loss: 0.0286 - accuracy: 0.8544 - val_loss: 0.0276 - val_accuracy: 0.8630\n",
            "Epoch 196/200\n",
            "469/469 [==============================] - 2s 4ms/step - loss: 0.0285 - accuracy: 0.8546 - val_loss: 0.0274 - val_accuracy: 0.8636\n",
            "Epoch 197/200\n",
            "469/469 [==============================] - 2s 4ms/step - loss: 0.0284 - accuracy: 0.8551 - val_loss: 0.0273 - val_accuracy: 0.8639\n",
            "Epoch 198/200\n",
            "469/469 [==============================] - 2s 4ms/step - loss: 0.0282 - accuracy: 0.8556 - val_loss: 0.0272 - val_accuracy: 0.8645\n",
            "Epoch 199/200\n",
            "469/469 [==============================] - 2s 4ms/step - loss: 0.0281 - accuracy: 0.8560 - val_loss: 0.0271 - val_accuracy: 0.8647\n",
            "Epoch 200/200\n",
            "469/469 [==============================] - 2s 4ms/step - loss: 0.0280 - accuracy: 0.8563 - val_loss: 0.0270 - val_accuracy: 0.8649\n"
          ]
        },
        {
          "output_type": "execute_result",
          "data": {
            "text/plain": [
              "<keras.callbacks.History at 0x7f55630fde50>"
            ]
          },
          "metadata": {},
          "execution_count": 23
        }
      ]
    }
  ]
}