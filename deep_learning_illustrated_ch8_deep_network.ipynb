{
  "nbformat": 4,
  "nbformat_minor": 0,
  "metadata": {
    "colab": {
      "name": "deep_learning_illustrated_ch8_deep_network.ipynb",
      "provenance": [],
      "collapsed_sections": [],
      "authorship_tag": "ABX9TyN/RPIcMwf1xT7UXKJ3nB2e",
      "include_colab_link": true
    },
    "kernelspec": {
      "name": "python3",
      "display_name": "Python 3"
    },
    "language_info": {
      "name": "python"
    }
  },
  "cells": [
    {
      "cell_type": "markdown",
      "metadata": {
        "id": "view-in-github",
        "colab_type": "text"
      },
      "source": [
        "<a href=\"https://colab.research.google.com/github/tony1966/colab/blob/main/deep_learning_illustrated_ch8_deep_network.ipynb\" target=\"_parent\"><img src=\"https://colab.research.google.com/assets/colab-badge.svg\" alt=\"Open In Colab\"/></a>"
      ]
    },
    {
      "cell_type": "code",
      "execution_count": 25,
      "metadata": {
        "id": "0rtAtrqIRPcJ"
      },
      "outputs": [],
      "source": [
        "from tensorflow.keras.datasets import mnist     \n",
        "from tensorflow.keras.models import Sequential   \n",
        "from tensorflow.keras.layers import Dense            \n",
        "from tensorflow.keras import optimizers                \n",
        "from tensorflow.keras.utils import plot_model      \n",
        "from tensorflow.keras.utils import to_categorical  \n",
        "import matplotlib.pyplot as plt                                 \n",
        "import numpy as np                                                   "
      ]
    },
    {
      "cell_type": "code",
      "source": [
        "(X_train, y_train), (X_test, y_test)=mnist.load_data()"
      ],
      "metadata": {
        "id": "V-H-sHOvRjsI"
      },
      "execution_count": 26,
      "outputs": []
    },
    {
      "cell_type": "code",
      "source": [
        "X_train=X_train.reshape(60000, 784).astype('float32')  \n",
        "X_test=X_test.reshape(10000, 784).astype('float32')      \n",
        "X_train /= 255              \n",
        "X_test /= 255           "
      ],
      "metadata": {
        "id": "ry_GHiIFRtNn"
      },
      "execution_count": 27,
      "outputs": []
    },
    {
      "cell_type": "code",
      "source": [
        "y_train=to_categorical(y_train, 10)     \n",
        "y_test=to_categorical(y_test, 10)            "
      ],
      "metadata": {
        "id": "FK_n-hoqYsx8"
      },
      "execution_count": 28,
      "outputs": []
    },
    {
      "cell_type": "code",
      "source": [
        "model=Sequential()     \n",
        "model.add(Dense(64, activation='relu', input_shape=(784,))) \n",
        "model.add(Dense(64, activation='relu'))  \n",
        "model.add(Dense(10, activation='softmax'))     "
      ],
      "metadata": {
        "id": "TMYj4x4dY8gb"
      },
      "execution_count": 29,
      "outputs": []
    },
    {
      "cell_type": "code",
      "source": [
        "model.summary()             "
      ],
      "metadata": {
        "colab": {
          "base_uri": "https://localhost:8080/"
        },
        "id": "uVZdeeavZtaR",
        "outputId": "19c8cddc-b7d3-4b55-c08d-2664a2dad32f"
      },
      "execution_count": 30,
      "outputs": [
        {
          "output_type": "stream",
          "name": "stdout",
          "text": [
            "Model: \"sequential_2\"\n",
            "_________________________________________________________________\n",
            " Layer (type)                Output Shape              Param #   \n",
            "=================================================================\n",
            " dense_6 (Dense)             (None, 64)                50240     \n",
            "                                                                 \n",
            " dense_7 (Dense)             (None, 64)                4160      \n",
            "                                                                 \n",
            " dense_8 (Dense)             (None, 10)                650       \n",
            "                                                                 \n",
            "=================================================================\n",
            "Total params: 55,050\n",
            "Trainable params: 55,050\n",
            "Non-trainable params: 0\n",
            "_________________________________________________________________\n"
          ]
        }
      ]
    },
    {
      "cell_type": "code",
      "source": [
        "model.compile(loss='categorical_crossentropy', \n",
        "              optimizer=optimizers.SGD(learning_rate=0.01),\n",
        "              metrics=['accuracy'])"
      ],
      "metadata": {
        "id": "L1Xtumz_Zwke"
      },
      "execution_count": 31,
      "outputs": []
    },
    {
      "cell_type": "code",
      "source": [
        "model.fit(X_train, y_train, batch_size=128, epochs=20, verbose=1, validation_data=(X_test, y_test))"
      ],
      "metadata": {
        "colab": {
          "base_uri": "https://localhost:8080/"
        },
        "id": "PDs2SLmZcAiN",
        "outputId": "07dd33af-d83c-462c-abe2-4f0e00722a7e"
      },
      "execution_count": 32,
      "outputs": [
        {
          "output_type": "stream",
          "name": "stdout",
          "text": [
            "Epoch 1/20\n",
            "469/469 [==============================] - 3s 5ms/step - loss: 1.5000 - accuracy: 0.5963 - val_loss: 0.7265 - val_accuracy: 0.8386\n",
            "Epoch 2/20\n",
            "469/469 [==============================] - 2s 4ms/step - loss: 0.5611 - accuracy: 0.8611 - val_loss: 0.4342 - val_accuracy: 0.8870\n",
            "Epoch 3/20\n",
            "469/469 [==============================] - 2s 4ms/step - loss: 0.4109 - accuracy: 0.8881 - val_loss: 0.3597 - val_accuracy: 0.9010\n",
            "Epoch 4/20\n",
            "469/469 [==============================] - 2s 4ms/step - loss: 0.3566 - accuracy: 0.8998 - val_loss: 0.3255 - val_accuracy: 0.9095\n",
            "Epoch 5/20\n",
            "469/469 [==============================] - 2s 4ms/step - loss: 0.3261 - accuracy: 0.9070 - val_loss: 0.3024 - val_accuracy: 0.9143\n",
            "Epoch 6/20\n",
            "469/469 [==============================] - 2s 4ms/step - loss: 0.3045 - accuracy: 0.9132 - val_loss: 0.2894 - val_accuracy: 0.9166\n",
            "Epoch 7/20\n",
            "469/469 [==============================] - 2s 4ms/step - loss: 0.2883 - accuracy: 0.9180 - val_loss: 0.2718 - val_accuracy: 0.9233\n",
            "Epoch 8/20\n",
            "469/469 [==============================] - 2s 4ms/step - loss: 0.2743 - accuracy: 0.9219 - val_loss: 0.2605 - val_accuracy: 0.9255\n",
            "Epoch 9/20\n",
            "469/469 [==============================] - 2s 4ms/step - loss: 0.2626 - accuracy: 0.9254 - val_loss: 0.2495 - val_accuracy: 0.9280\n",
            "Epoch 10/20\n",
            "469/469 [==============================] - 2s 4ms/step - loss: 0.2518 - accuracy: 0.9281 - val_loss: 0.2429 - val_accuracy: 0.9293\n",
            "Epoch 11/20\n",
            "469/469 [==============================] - 2s 4ms/step - loss: 0.2425 - accuracy: 0.9305 - val_loss: 0.2338 - val_accuracy: 0.9320\n",
            "Epoch 12/20\n",
            "469/469 [==============================] - 2s 4ms/step - loss: 0.2341 - accuracy: 0.9328 - val_loss: 0.2255 - val_accuracy: 0.9335\n",
            "Epoch 13/20\n",
            "469/469 [==============================] - 2s 4ms/step - loss: 0.2261 - accuracy: 0.9355 - val_loss: 0.2194 - val_accuracy: 0.9359\n",
            "Epoch 14/20\n",
            "469/469 [==============================] - 2s 4ms/step - loss: 0.2192 - accuracy: 0.9366 - val_loss: 0.2137 - val_accuracy: 0.9383\n",
            "Epoch 15/20\n",
            "469/469 [==============================] - 2s 4ms/step - loss: 0.2125 - accuracy: 0.9391 - val_loss: 0.2074 - val_accuracy: 0.9390\n",
            "Epoch 16/20\n",
            "469/469 [==============================] - 2s 4ms/step - loss: 0.2064 - accuracy: 0.9406 - val_loss: 0.2030 - val_accuracy: 0.9405\n",
            "Epoch 17/20\n",
            "469/469 [==============================] - 2s 4ms/step - loss: 0.2005 - accuracy: 0.9419 - val_loss: 0.1965 - val_accuracy: 0.9432\n",
            "Epoch 18/20\n",
            "469/469 [==============================] - 2s 4ms/step - loss: 0.1952 - accuracy: 0.9435 - val_loss: 0.1917 - val_accuracy: 0.9445\n",
            "Epoch 19/20\n",
            "469/469 [==============================] - 2s 4ms/step - loss: 0.1899 - accuracy: 0.9450 - val_loss: 0.1880 - val_accuracy: 0.9444\n",
            "Epoch 20/20\n",
            "469/469 [==============================] - 2s 4ms/step - loss: 0.1852 - accuracy: 0.9468 - val_loss: 0.1824 - val_accuracy: 0.9466\n"
          ]
        },
        {
          "output_type": "execute_result",
          "data": {
            "text/plain": [
              "<keras.callbacks.History at 0x7fa603676190>"
            ]
          },
          "metadata": {},
          "execution_count": 32
        }
      ]
    }
  ]
}