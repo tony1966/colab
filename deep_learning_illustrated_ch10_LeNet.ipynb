{
  "nbformat": 4,
  "nbformat_minor": 0,
  "metadata": {
    "colab": {
      "name": "deep_learning_illustrated_ch10_LeNet.ipynb",
      "provenance": [],
      "authorship_tag": "ABX9TyPadlHeYykjfvpQ6wMh3DjB",
      "include_colab_link": true
    },
    "kernelspec": {
      "name": "python3",
      "display_name": "Python 3"
    },
    "language_info": {
      "name": "python"
    }
  },
  "cells": [
    {
      "cell_type": "markdown",
      "metadata": {
        "id": "view-in-github",
        "colab_type": "text"
      },
      "source": [
        "<a href=\"https://colab.research.google.com/github/tony1966/colab/blob/main/deep_learning_illustrated_ch10_LeNet.ipynb\" target=\"_parent\"><img src=\"https://colab.research.google.com/assets/colab-badge.svg\" alt=\"Open In Colab\"/></a>"
      ]
    },
    {
      "cell_type": "code",
      "execution_count": 1,
      "metadata": {
        "id": "OSsXnk7DgOzG"
      },
      "outputs": [],
      "source": [
        "from tensorflow.keras.datasets import mnist\n",
        "from tensorflow.keras.models import Sequential\n",
        "from tensorflow.keras.layers import Dense, Dropout\n",
        "from tensorflow.keras.utils import to_categorical\n",
        "from tensorflow.keras.layers import Conv2D, MaxPooling2D, Flatten"
      ]
    },
    {
      "cell_type": "code",
      "source": [
        "(X_train, y_train), (X_test, y_test)=mnist.load_data()"
      ],
      "metadata": {
        "colab": {
          "base_uri": "https://localhost:8080/"
        },
        "id": "Ja3QUt0xiFuJ",
        "outputId": "6674f29e-66b9-4ef3-ba38-064a241a12f3"
      },
      "execution_count": 2,
      "outputs": [
        {
          "output_type": "stream",
          "name": "stdout",
          "text": [
            "Downloading data from https://storage.googleapis.com/tensorflow/tf-keras-datasets/mnist.npz\n",
            "11493376/11490434 [==============================] - 0s 0us/step\n",
            "11501568/11490434 [==============================] - 0s 0us/step\n"
          ]
        }
      ]
    },
    {
      "cell_type": "code",
      "source": [
        "X_train=X_train.reshape(60000, 28, 28, 1).astype('float32') \n",
        "X_test=X_test.reshape(10000, 28, 28, 1).astype('float32')  \n",
        "X_train /= 255                    \n",
        "X_test /= 255                    \n",
        "y_train=to_categorical(y_train, 10)          \n",
        "y_test=to_categorical(y_test, 10)"
      ],
      "metadata": {
        "id": "z4b-tnysiIEg"
      },
      "execution_count": 3,
      "outputs": []
    },
    {
      "cell_type": "code",
      "source": [
        "model=Sequential()\n",
        "model.add(Conv2D(32, kernel_size=(3, 3), activation='relu',\n",
        "         input_shape=(28, 28, 1)))\n",
        "model.add(Conv2D(64, kernel_size=(3, 3), activation='relu',\n",
        "         input_shape=(28, 28, 1)))\n",
        "model.add(MaxPooling2D(pool_size=(2, 2)))\n",
        "model.add(Dropout(0.25))\n",
        "model.add(Flatten())\n",
        "model.add(Dense(128, activation='relu'))\n",
        "model.add(Dropout(0.5))\n",
        "model.add(Dense(10, activation='softmax'))"
      ],
      "metadata": {
        "id": "iCDEHz_ikznT"
      },
      "execution_count": 11,
      "outputs": []
    },
    {
      "cell_type": "code",
      "source": [
        "model.summary()"
      ],
      "metadata": {
        "colab": {
          "base_uri": "https://localhost:8080/"
        },
        "id": "1gPE4WT81SCw",
        "outputId": "4896fd0c-05f4-48d2-871e-d37c7df4c42c"
      },
      "execution_count": 12,
      "outputs": [
        {
          "output_type": "stream",
          "name": "stdout",
          "text": [
            "Model: \"sequential_1\"\n",
            "_________________________________________________________________\n",
            " Layer (type)                Output Shape              Param #   \n",
            "=================================================================\n",
            " conv2d_2 (Conv2D)           (None, 26, 26, 32)        320       \n",
            "                                                                 \n",
            " conv2d_3 (Conv2D)           (None, 24, 24, 64)        18496     \n",
            "                                                                 \n",
            " max_pooling2d_1 (MaxPooling  (None, 12, 12, 64)       0         \n",
            " 2D)                                                             \n",
            "                                                                 \n",
            " dropout_2 (Dropout)         (None, 12, 12, 64)        0         \n",
            "                                                                 \n",
            " flatten_1 (Flatten)         (None, 9216)              0         \n",
            "                                                                 \n",
            " dense_2 (Dense)             (None, 128)               1179776   \n",
            "                                                                 \n",
            " dropout_3 (Dropout)         (None, 128)               0         \n",
            "                                                                 \n",
            " dense_3 (Dense)             (None, 10)                1290      \n",
            "                                                                 \n",
            "=================================================================\n",
            "Total params: 1,199,882\n",
            "Trainable params: 1,199,882\n",
            "Non-trainable params: 0\n",
            "_________________________________________________________________\n"
          ]
        }
      ]
    },
    {
      "cell_type": "code",
      "source": [
        "model.compile(loss='categorical_crossentropy', optimizer='adam',\n",
        "              metrics=['accuracy'])"
      ],
      "metadata": {
        "id": "jkSFNQlE1Y2_"
      },
      "execution_count": 13,
      "outputs": []
    },
    {
      "cell_type": "code",
      "source": [
        "model.fit(X_train, y_train, batch_size=128, epochs=10, verbose=1,\n",
        "          validation_data=(X_test, y_test))"
      ],
      "metadata": {
        "colab": {
          "base_uri": "https://localhost:8080/"
        },
        "id": "mt9Z0gMGfGCr",
        "outputId": "88ba971f-9877-41c1-c813-7f90f55cfe84"
      },
      "execution_count": 14,
      "outputs": [
        {
          "output_type": "stream",
          "name": "stdout",
          "text": [
            "Epoch 1/10\n",
            "469/469 [==============================] - 149s 316ms/step - loss: 0.2284 - accuracy: 0.9307 - val_loss: 0.0493 - val_accuracy: 0.9838\n",
            "Epoch 2/10\n",
            "469/469 [==============================] - 147s 314ms/step - loss: 0.0808 - accuracy: 0.9762 - val_loss: 0.0345 - val_accuracy: 0.9885\n",
            "Epoch 3/10\n",
            "469/469 [==============================] - 147s 313ms/step - loss: 0.0597 - accuracy: 0.9816 - val_loss: 0.0328 - val_accuracy: 0.9883\n",
            "Epoch 4/10\n",
            "469/469 [==============================] - 146s 312ms/step - loss: 0.0490 - accuracy: 0.9854 - val_loss: 0.0299 - val_accuracy: 0.9903\n",
            "Epoch 5/10\n",
            "469/469 [==============================] - 146s 312ms/step - loss: 0.0429 - accuracy: 0.9868 - val_loss: 0.0303 - val_accuracy: 0.9891\n",
            "Epoch 6/10\n",
            "469/469 [==============================] - 146s 311ms/step - loss: 0.0364 - accuracy: 0.9888 - val_loss: 0.0309 - val_accuracy: 0.9900\n",
            "Epoch 7/10\n",
            "469/469 [==============================] - 147s 312ms/step - loss: 0.0325 - accuracy: 0.9895 - val_loss: 0.0284 - val_accuracy: 0.9915\n",
            "Epoch 8/10\n",
            "469/469 [==============================] - 147s 313ms/step - loss: 0.0303 - accuracy: 0.9900 - val_loss: 0.0256 - val_accuracy: 0.9918\n",
            "Epoch 9/10\n",
            "469/469 [==============================] - 148s 315ms/step - loss: 0.0271 - accuracy: 0.9912 - val_loss: 0.0277 - val_accuracy: 0.9913\n",
            "Epoch 10/10\n",
            "469/469 [==============================] - 147s 314ms/step - loss: 0.0226 - accuracy: 0.9925 - val_loss: 0.0257 - val_accuracy: 0.9927\n"
          ]
        },
        {
          "output_type": "execute_result",
          "data": {
            "text/plain": [
              "<keras.callbacks.History at 0x7fe576ac9e50>"
            ]
          },
          "metadata": {},
          "execution_count": 14
        }
      ]
    }
  ]
}