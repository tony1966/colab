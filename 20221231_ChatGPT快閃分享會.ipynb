{
  "nbformat": 4,
  "nbformat_minor": 0,
  "metadata": {
    "colab": {
      "provenance": [],
      "include_colab_link": true
    },
    "kernelspec": {
      "name": "python3",
      "display_name": "Python 3"
    },
    "language_info": {
      "name": "python"
    }
  },
  "cells": [
    {
      "cell_type": "markdown",
      "metadata": {
        "id": "view-in-github",
        "colab_type": "text"
      },
      "source": [
        "<a href=\"https://colab.research.google.com/github/tony1966/colab/blob/main/20221231_ChatGPT%E5%BF%AB%E9%96%83%E5%88%86%E4%BA%AB%E6%9C%83.ipynb\" target=\"_parent\"><img src=\"https://colab.research.google.com/assets/colab-badge.svg\" alt=\"Open In Colab\"/></a>"
      ]
    },
    {
      "cell_type": "code",
      "execution_count": null,
      "metadata": {
        "id": "8BcQOP3a0sia"
      },
      "outputs": [],
      "source": [
        "!pip install openai"
      ]
    },
    {
      "cell_type": "code",
      "source": [
        "# 開發第一個ChatGPT程式\n",
        "import openai\n",
        "\n",
        "openai.api_key = \"OpenAI API Key\"\n",
        "\n",
        "response = openai.Completion.create(\n",
        "  model=\"text-davinci-003\",\n",
        "  prompt=\"請問Python有哪幾種基本的資料型態？\",\n",
        "  temperature=0,\n",
        "  max_tokens=500,\n",
        "  top_p=1,\n",
        "  frequency_penalty=0.5,\n",
        "  presence_penalty=0\n",
        ")"
      ],
      "metadata": {
        "id": "ZFwr_3dd1SAp"
      },
      "execution_count": null,
      "outputs": []
    },
    {
      "cell_type": "code",
      "source": [
        "response"
      ],
      "metadata": {
        "id": "4U8QQvYL2OAo"
      },
      "execution_count": null,
      "outputs": []
    },
    {
      "cell_type": "code",
      "source": [
        "print(response[\"choices\"][0][\"text\"].strip())"
      ],
      "metadata": {
        "id": "OirHHOR82lVg"
      },
      "execution_count": null,
      "outputs": []
    },
    {
      "cell_type": "code",
      "source": [
        "# ChatGPT簡易聊天程式\n",
        "import openai\n",
        "openai.api_key = key\n",
        "\n",
        "Question = input(\"請輸入您的問題：\")\n",
        "\n",
        "if Question != \"\":\n",
        "    response = openai.Completion.create(\n",
        "    model=\"text-davinci-003\",\n",
        "    prompt=Question,\n",
        "    temperature=0,\n",
        "    max_tokens=500,\n",
        "    top_p=1,\n",
        "    frequency_penalty=0.5,\n",
        "    presence_penalty=0\n",
        "    )\n",
        "    # 顯示答案\n",
        "    print(response[\"choices\"][0][\"text\"].strip())"
      ],
      "metadata": {
        "id": "y2HE4cRB3R5u"
      },
      "execution_count": null,
      "outputs": []
    },
    {
      "cell_type": "code",
      "source": [
        "# 製作ChatGPT自訂函式\n",
        "def askchatgpt(Question):\n",
        "    response = openai.Completion.create(\n",
        "    model=\"text-davinci-003\",\n",
        "    prompt=Question,\n",
        "    temperature=0,\n",
        "    max_tokens=500,\n",
        "    top_p=1,\n",
        "    frequency_penalty=0.5,\n",
        "    presence_penalty=0\n",
        "    )\n",
        "    # 返回答案\n",
        "    return response[\"choices\"][0][\"text\"].strip()"
      ],
      "metadata": {
        "id": "f_jCTDJT4rtk"
      },
      "execution_count": null,
      "outputs": []
    },
    {
      "cell_type": "code",
      "source": [
        "Question = input(\"請輸入您的問題：\")\n",
        "print(askchatgpt(Question))"
      ],
      "metadata": {
        "id": "7vgnkvms5Rbl"
      },
      "execution_count": null,
      "outputs": []
    },
    {
      "cell_type": "code",
      "source": [
        "# 製作有使用介面的聊天機器人：Gradio\n",
        "# !pip install gradio\n",
        "\n",
        "#create interface object\n",
        "import gradio as gr\n",
        "gui = gr.Interface(fn=askchatgpt, #callable function\n",
        "                   inputs=\"text\", #input format\n",
        "                   outputs=\"text\") #output format\n",
        "#display the interface\n",
        "gui.launch(share=True)"
      ],
      "metadata": {
        "id": "VnXRgSlT6JcS"
      },
      "execution_count": null,
      "outputs": []
    }
  ]
}